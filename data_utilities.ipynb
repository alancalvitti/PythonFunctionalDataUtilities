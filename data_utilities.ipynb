{
 "cells": [
  {
   "cell_type": "code",
   "execution_count": null,
   "metadata": {},
   "outputs": [],
   "source": [
    "# data_utilities"
   ]
  },
  {
   "cell_type": "code",
   "execution_count": null,
   "metadata": {},
   "outputs": [],
   "source": [
    "# Alan Calvitti\n",
    "# alancalvitti@gmail.com\n",
    "# (c) 2020"
   ]
  },
  {
   "cell_type": "code",
   "execution_count": 1,
   "metadata": {},
   "outputs": [],
   "source": [
    "import argparse\n",
    "import shutil\n",
    "import pathlib\n",
    "import os\n",
    "import sys\n",
    "import glob"
   ]
  },
  {
   "cell_type": "code",
   "execution_count": 2,
   "metadata": {},
   "outputs": [],
   "source": [
    "import logging\n",
    "import decorator\n",
    "import time\n",
    "import inspect\n",
    "\n",
    "import numbers\n",
    "import decimal"
   ]
  },
  {
   "cell_type": "code",
   "execution_count": 3,
   "metadata": {},
   "outputs": [],
   "source": [
    "from importlib import reload"
   ]
  },
  {
   "cell_type": "code",
   "execution_count": 4,
   "metadata": {},
   "outputs": [],
   "source": [
    "sys.path.append('/Applications/anaconda3/lib/python3.7/site-packages/splunk_sdk-1.6.12-py3.7.egg')\n",
    "import splunklib.client as client\n",
    "import splunklib.results as results"
   ]
  },
  {
   "cell_type": "code",
   "execution_count": 5,
   "metadata": {},
   "outputs": [],
   "source": [
    "from ipywidgets import widgets, interact"
   ]
  },
  {
   "cell_type": "code",
   "execution_count": 231,
   "metadata": {},
   "outputs": [],
   "source": [
    "from IPython.display import display\n",
    "from IPython.display import Javascript as d_js\n",
    "from IPython.display import HTML\n",
    "from IPython.display import display_html"
   ]
  },
  {
   "cell_type": "code",
   "execution_count": 8,
   "metadata": {},
   "outputs": [],
   "source": [
    "import pickle"
   ]
  },
  {
   "cell_type": "code",
   "execution_count": 17,
   "metadata": {},
   "outputs": [],
   "source": [
    "import pandas as pd\n",
    "from pandas import ExcelWriter\n",
    "from pandas import ExcelFile\n",
    "from pandas.io.json import json_normalize\n",
    "from pandas import DataFrame as DF\n",
    "pd.options.display.max_rows= 999"
   ]
  },
  {
   "cell_type": "code",
   "execution_count": 12,
   "metadata": {},
   "outputs": [],
   "source": [
    "import ast"
   ]
  },
  {
   "cell_type": "code",
   "execution_count": 13,
   "metadata": {},
   "outputs": [],
   "source": [
    "from numbers import Number"
   ]
  },
  {
   "cell_type": "code",
   "execution_count": 14,
   "metadata": {},
   "outputs": [],
   "source": [
    "import numpy as np"
   ]
  },
  {
   "cell_type": "code",
   "execution_count": 15,
   "metadata": {},
   "outputs": [],
   "source": [
    "import re\n",
    "import json\n",
    "import warnings\n",
    "import csv\n",
    "import string\n",
    "import functools\n",
    "import statistics\n",
    "import math as m"
   ]
  },
  {
   "cell_type": "code",
   "execution_count": 16,
   "metadata": {},
   "outputs": [],
   "source": [
    "from copy import deepcopy\n",
    "from glob import glob"
   ]
  },
  {
   "cell_type": "code",
   "execution_count": 25,
   "metadata": {},
   "outputs": [],
   "source": [
    "from dateutil import parser as dateparser\n",
    "import datetime as dt"
   ]
  },
  {
   "cell_type": "code",
   "execution_count": 19,
   "metadata": {},
   "outputs": [],
   "source": [
    "import matplotlib as mp\n",
    "import matplotlib.pyplot as plt\n",
    "from matplotlib.pyplot import figure\n",
    "from matplotlib.patches import Patch\n",
    "from matplotlib.lines import Line2D"
   ]
  },
  {
   "cell_type": "code",
   "execution_count": 20,
   "metadata": {},
   "outputs": [],
   "source": [
    "from itertools import tee\n",
    "from itertools import zip_longest\n",
    "from itertools import chain\n",
    "import itertools as it\n",
    "from itertools import groupby\n",
    "from itertools import takewhile"
   ]
  },
  {
   "cell_type": "code",
   "execution_count": 21,
   "metadata": {},
   "outputs": [],
   "source": [
    "from operator import *\n",
    "from operator import itemgetter\n",
    "from pprint import pprint"
   ]
  },
  {
   "cell_type": "code",
   "execution_count": 22,
   "metadata": {},
   "outputs": [],
   "source": [
    "from collections import OrderedDict\n",
    "from collections import Counter\n",
    "from functools import partial"
   ]
  },
  {
   "cell_type": "code",
   "execution_count": 26,
   "metadata": {},
   "outputs": [],
   "source": [
    "import warnings\n",
    "warnings.filterwarnings('ignore')"
   ]
  },
  {
   "cell_type": "code",
   "execution_count": 27,
   "metadata": {},
   "outputs": [],
   "source": [
    "import random"
   ]
  },
  {
   "cell_type": "code",
   "execution_count": 28,
   "metadata": {},
   "outputs": [],
   "source": [
    "from contextlib import contextmanager"
   ]
  },
  {
   "cell_type": "code",
   "execution_count": 29,
   "metadata": {},
   "outputs": [],
   "source": [
    "import getpass"
   ]
  },
  {
   "cell_type": "code",
   "execution_count": null,
   "metadata": {},
   "outputs": [],
   "source": []
  },
  {
   "cell_type": "code",
   "execution_count": null,
   "metadata": {},
   "outputs": [],
   "source": [
    "#####"
   ]
  },
  {
   "cell_type": "code",
   "execution_count": 30,
   "metadata": {},
   "outputs": [],
   "source": [
    "path_parent = lambda path: str(Path(path).parent)"
   ]
  },
  {
   "cell_type": "code",
   "execution_count": 31,
   "metadata": {},
   "outputs": [],
   "source": [
    "def argv_pairs_to_dict(argv_list):\n",
    "    return rc(mat([ALL],lambda x:x.split('=')), select(lambda x: len(x)==2), dict, key_map(lambda s: s.lstrip('-')))(argv_list)"
   ]
  },
  {
   "cell_type": "code",
   "execution_count": 32,
   "metadata": {},
   "outputs": [],
   "source": [
    "def display_side_by_side(*args):\n",
    "    html_str=''\n",
    "    for df in args:\n",
    "        html_str += df.to_html()\n",
    "    display_html(html_str.replace('table','table style=\"display:inline\"'), raw=True)"
   ]
  },
  {
   "cell_type": "code",
   "execution_count": 33,
   "metadata": {},
   "outputs": [],
   "source": [
    "execfile = lambda file: exec(open(file).read())"
   ]
  },
  {
   "cell_type": "code",
   "execution_count": 34,
   "metadata": {},
   "outputs": [],
   "source": [
    "# transpose of DataFrame\n",
    "DFT = lambda d: DF(d).T"
   ]
  },
  {
   "cell_type": "code",
   "execution_count": 36,
   "metadata": {},
   "outputs": [],
   "source": [
    "# https://stackoverflow.com/a/567697/1472770\n",
    "def retry(howmany, *exception_types, **kwargs):\n",
    "    timeout = kwargs.get('timeout', 0.0) # seconds\n",
    "    @decorator.decorator\n",
    "    def tryIt(func, *fargs, **fkwargs):\n",
    "        for _ in range(howmany):\n",
    "            try: return func(*fargs, **fkwargs)\n",
    "            except exception_types or Exception:\n",
    "                if timeout is not None: time.sleep(timeout)\n",
    "    return tryIt"
   ]
  },
  {
   "cell_type": "code",
   "execution_count": 37,
   "metadata": {},
   "outputs": [],
   "source": [
    "def insert_at(sub, index):\n",
    "    return lambda x: x[:index] + sub + x[index:]"
   ]
  },
  {
   "cell_type": "code",
   "execution_count": 38,
   "metadata": {},
   "outputs": [],
   "source": [
    "def notebook_name(path=False):\n",
    "    d_js(\"iPython.notebook.kernel.execute('nb_name =\\\"' + iPython.notebook.notebook_name + '\\\"' ')\")\n",
    "    if path:\n",
    "        return os.path.join(os.getcwd(), nb_name)\n",
    "    else:\n",
    "        return nb_name"
   ]
  },
  {
   "cell_type": "code",
   "execution_count": 39,
   "metadata": {},
   "outputs": [],
   "source": [
    "def string_split(c):\n",
    "    return lambda s: s.split(c)"
   ]
  },
  {
   "cell_type": "code",
   "execution_count": 40,
   "metadata": {},
   "outputs": [],
   "source": [
    "def part(i):\n",
    "    return lambda x: x[i]"
   ]
  },
  {
   "cell_type": "code",
   "execution_count": 41,
   "metadata": {},
   "outputs": [],
   "source": [
    "def isa(t):\n",
    "    return lambda x: isinstance(x,t)"
   ]
  },
  {
   "cell_type": "code",
   "execution_count": 42,
   "metadata": {},
   "outputs": [],
   "source": [
    "def isnota(t):\n",
    "    return lambda x: not isinstance(x,t)"
   ]
  },
  {
   "cell_type": "code",
   "execution_count": 43,
   "metadata": {},
   "outputs": [],
   "source": [
    "def isequal(v):\n",
    "    return lambda x: x==v"
   ]
  },
  {
   "cell_type": "code",
   "execution_count": 44,
   "metadata": {},
   "outputs": [],
   "source": [
    "def isunequal(v):\n",
    "    return lambda x: x!=v"
   ]
  },
  {
   "cell_type": "code",
   "execution_count": 45,
   "metadata": {},
   "outputs": [],
   "source": [
    "def greater_than(v):\n",
    "    return lambda x: x>v"
   ]
  },
  {
   "cell_type": "code",
   "execution_count": 46,
   "metadata": {},
   "outputs": [],
   "source": [
    "def greater_equal_than(v):\n",
    "    return lambda x: x>v"
   ]
  },
  {
   "cell_type": "code",
   "execution_count": 47,
   "metadata": {},
   "outputs": [],
   "source": [
    "def less_than(v):\n",
    "    return lambda x: x<v"
   ]
  },
  {
   "cell_type": "code",
   "execution_count": 48,
   "metadata": {},
   "outputs": [],
   "source": [
    "def less_equal_than(v):\n",
    "    return lambda x: x<=v"
   ]
  },
  {
   "cell_type": "code",
   "execution_count": 49,
   "metadata": {},
   "outputs": [],
   "source": [
    "def in_any(y):\n",
    "    return lambda d: any([x for x in d if y in x])"
   ]
  },
  {
   "cell_type": "code",
   "execution_count": 50,
   "metadata": {},
   "outputs": [],
   "source": [
    "def in_all(y):\n",
    "    return lambda d: all([x for x in d if y in x])"
   ]
  },
  {
   "cell_type": "code",
   "execution_count": 51,
   "metadata": {},
   "outputs": [],
   "source": [
    "def is_int_string(s):\n",
    "    assert(isinstance(s,str))\n",
    "    return all(map(str.isdigit,s))"
   ]
  },
  {
   "cell_type": "code",
   "execution_count": 53,
   "metadata": {},
   "outputs": [],
   "source": [
    "def join_varg(x):\n",
    "    def wrap_non_iterable(x):\n",
    "        if isinstance(x,str):\n",
    "            return [x]\n",
    "        elif not hasattr(x,'__iter__'):\n",
    "            return [x]\n",
    "        else:\n",
    "            return x\n",
    "        \n",
    "    return trap(join)(*mat([ALL],wrap_non_iterable)(x))"
   ]
  },
  {
   "cell_type": "code",
   "execution_count": 54,
   "metadata": {},
   "outputs": [],
   "source": [
    "def len_truncate(n):\n",
    "    return lambda x:x[:n]"
   ]
  },
  {
   "cell_type": "code",
   "execution_count": 55,
   "metadata": {},
   "outputs": [],
   "source": [
    "def __is_in(x,lst):\n",
    "    if isinstance(lst,(list,tuple)):\n",
    "        return x in lst\n",
    "    elif isinstance(lst,str):\n",
    "        if isinstance(x,str):\n",
    "            return x in lst\n",
    "        else:\n",
    "            return False\n",
    "    else:\n",
    "        return False\n",
    "    \n",
    "def is_in(lst):\n",
    "    return lambda x: __is_in(x,lst)"
   ]
  },
  {
   "cell_type": "code",
   "execution_count": 58,
   "metadata": {},
   "outputs": [],
   "source": [
    "def __replace(x,fg):\n",
    "    assert isinstance(fg,dict)\n",
    "    for f,g in fg.items():\n",
    "        if f(x):\n",
    "            return g(x)\n",
    "    return x\n",
    "\n",
    "def replace(fg):\n",
    "    return lambda x: __replace(x,fg)"
   ]
  },
  {
   "cell_type": "code",
   "execution_count": 59,
   "metadata": {},
   "outputs": [],
   "source": [
    "def through(*f):\n",
    "    return lambda x: tuple([g(x) for g in f])"
   ]
  },
  {
   "cell_type": "code",
   "execution_count": 60,
   "metadata": {},
   "outputs": [],
   "source": [
    "def through_d(d):\n",
    "    return lambda x: {k(x):f(x) for k,f in d.items()}"
   ]
  },
  {
   "cell_type": "code",
   "execution_count": 61,
   "metadata": {},
   "outputs": [],
   "source": [
    "def lay(d):\n",
    "    data = {'type': type(d)}\n",
    "    if isinstance(d,(dict,list,tuple)):\n",
    "        data = join(data,{'len':len(d), '1-level': mat([ALL], through(type,len))(d)})\n",
    "    return data"
   ]
  },
  {
   "cell_type": "code",
   "execution_count": 62,
   "metadata": {},
   "outputs": [],
   "source": [
    "isnumeric = lambda x: x.isnumeric()"
   ]
  },
  {
   "cell_type": "code",
   "execution_count": 63,
   "metadata": {},
   "outputs": [],
   "source": [
    "def contains(y):\n",
    "    return lambda x: y in x"
   ]
  },
  {
   "cell_type": "code",
   "execution_count": 64,
   "metadata": {},
   "outputs": [],
   "source": [
    "def containedin(y):\n",
    "    return lambda x: x in y"
   ]
  },
  {
   "cell_type": "code",
   "execution_count": 65,
   "metadata": {},
   "outputs": [],
   "source": [
    "def contains_q(x,y):\n",
    "    try:\n",
    "        return x in y\n",
    "    except:\n",
    "        return False"
   ]
  },
  {
   "cell_type": "code",
   "execution_count": 68,
   "metadata": {},
   "outputs": [],
   "source": [
    "def set_venn(a,b):\n",
    "    seta = set(a)\n",
    "    setb = set(b)\n",
    "    return {'intersection': tuple(seta.intersection(setb)), 'union': tuple(seta.union(setb)), 'a-b': tuple(seta-setb), 'b-a':tuple(setb-seta)}"
   ]
  },
  {
   "cell_type": "code",
   "execution_count": 69,
   "metadata": {},
   "outputs": [],
   "source": [
    "def apply(f):\n",
    "    return lambda x:f(*x)"
   ]
  },
  {
   "cell_type": "code",
   "execution_count": 71,
   "metadata": {},
   "outputs": [],
   "source": [
    "minus = lambda x,y: x-y"
   ]
  },
  {
   "cell_type": "code",
   "execution_count": 72,
   "metadata": {},
   "outputs": [],
   "source": [
    "def reverse(x):\n",
    "    if isinstance(x,(list,tuple)):\n",
    "        return x[::-1]\n",
    "    elif instance(x,dict):\n",
    "        return dict(tuple(x.items())[::-1])"
   ]
  },
  {
   "cell_type": "code",
   "execution_count": null,
   "metadata": {},
   "outputs": [],
   "source": [
    "# DICT"
   ]
  },
  {
   "cell_type": "code",
   "execution_count": 73,
   "metadata": {},
   "outputs": [],
   "source": [
    "def __position(f,l):\n",
    "    if isinstance(l,(list,tuple)):\n",
    "        return [i for i,j in enumerate(l) if f(j)]\n",
    "    if isinstance(l,dict):\n",
    "        return [k for k,v in l.items() if f(v)]\n",
    "\n",
    "def position(f):\n",
    "    return lambda l: __position(f,l)"
   ]
  },
  {
   "cell_type": "code",
   "execution_count": 75,
   "metadata": {},
   "outputs": [],
   "source": [
    "def venn_pair__(d,ka,kb,union_False,out_format=tuple):\n",
    "    seta = set(d[ka])\n",
    "    setb = set(d[kb])\n",
    "    f = out_format\n",
    "    if union:\n",
    "        return {(ka,'intersection',kb): f(seta.intersection(setb)), \n",
    "                (ka, 'minus', kb): f(seta-setb),\n",
    "                (kb, 'minus', ka): f(setb-seta),\n",
    "                (ka,'union',kb): f(seta.union(setb))}\n",
    "    else:\n",
    "        return  {(ka,'intersection',kb): f(seta.intersection(setb)), \n",
    "                (ka, 'minus', kb): f(seta-setb),\n",
    "                (kb, 'minus', ka): f(setb-seta)}\n",
    "\n",
    "def venn_pair(ka, kb, **kwarg):\n",
    "    return lambda d: venn_pair__(d,ka,kb, **kwarg)"
   ]
  },
  {
   "cell_type": "code",
   "execution_count": 76,
   "metadata": {},
   "outputs": [],
   "source": [
    "#useful for key_value_map\n",
    "kv_key = lambda k,v: k\n",
    "kv_value = lambda k,v: v"
   ]
  },
  {
   "cell_type": "code",
   "execution_count": 77,
   "metadata": {},
   "outputs": [],
   "source": [
    "def key_value_map(f,g):\n",
    "    return lambda d: {f(k,v): g(k,v) for k,v in d.items()}"
   ]
  },
  {
   "cell_type": "code",
   "execution_count": 79,
   "metadata": {},
   "outputs": [],
   "source": [
    "def prepend(d2):\n",
    "    return lambda d: join(d2,d)\n",
    "\n",
    "def append(d2):\n",
    "    return lambda d: join(d,d2)"
   ]
  },
  {
   "cell_type": "code",
   "execution_count": 80,
   "metadata": {},
   "outputs": [],
   "source": [
    "def delete_empty_items(x):\n",
    "    if isinstance(x,(list,tuple)):\n",
    "        return type(x)([y for y in x if y not in [{},[],()]])\n",
    "    elif isinstance(x,dict):\n",
    "        return {k:v for k,v in x.items() if v not in [{},[],()]}"
   ]
  },
  {
   "cell_type": "code",
   "execution_count": 81,
   "metadata": {},
   "outputs": [],
   "source": [
    "# improve by adding optional lambda to filter similar none-type missing values\n",
    "def delete_none(d):\n",
    "    if isinstance(d,(list,tuple)):\n",
    "        return [x for x in d if x!=None]\n",
    "    if isinstance(d,dict):\n",
    "        return {k:v for k,v in d.items() if v!=None}"
   ]
  },
  {
   "cell_type": "code",
   "execution_count": 82,
   "metadata": {},
   "outputs": [],
   "source": [
    "def __delete_by(d,f):\n",
    "    if isinstance(d,(list,tuple)):\n",
    "        return [x for x in d if not f(x)]\n",
    "    elif isinstance(d,dict):\n",
    "        return {k:v for k,v in d.items() if not f(v)}\n",
    "    \n",
    "def delete_by(f):\n",
    "    return lambda d: __delete_by(d,f)"
   ]
  },
  {
   "cell_type": "code",
   "execution_count": 83,
   "metadata": {},
   "outputs": [],
   "source": [
    "def ismissing(x):\n",
    "    if x in (None,'Missing'):\n",
    "        return True\n",
    "    else:\n",
    "        return False"
   ]
  },
  {
   "cell_type": "code",
   "execution_count": 84,
   "metadata": {},
   "outputs": [],
   "source": [
    "def dict2tuples(d):\n",
    "    return tuple([(k,v) for k,v in d.items()])\n",
    "\n",
    "def tuples2dict(t):\n",
    "    return {x[0]:x[1] for x in t}"
   ]
  },
  {
   "cell_type": "code",
   "execution_count": 85,
   "metadata": {},
   "outputs": [],
   "source": [
    "def dict_thread(keys,vlist):\n",
    "    return [dict(zip(*(keys,v))) for v in vlist]"
   ]
  },
  {
   "cell_type": "code",
   "execution_count": 86,
   "metadata": {},
   "outputs": [],
   "source": [
    "def df_dict(df,**kwarg):\n",
    "    return list(df.to_dict(**kwarg).values())"
   ]
  },
  {
   "cell_type": "code",
   "execution_count": 88,
   "metadata": {},
   "outputs": [],
   "source": [
    "keys = lambda x: tuple(x.keys())\n",
    "values = lambda x: tuple(x.values())\n",
    "items = lambda x: tuple(x.items())"
   ]
  },
  {
   "cell_type": "code",
   "execution_count": 90,
   "metadata": {},
   "outputs": [],
   "source": [
    "def __select(f,x):\n",
    "    if isinstance(x,(list,tuple)):\n",
    "        return type(x)(filter(f,x))\n",
    "    elif isinstance(x,dict):\n",
    "        return dict(filter(rc(last,f), x.items()))\n",
    "    \n",
    "def select(f):\n",
    "    return lambda x: __select(f,x)\n",
    "\n",
    "def __key_select(f,x):\n",
    "    return dict(filter(rcomp(first,f), x.items()))\n",
    "\n",
    "def key_select(f):\n",
    "    return lambda x: __key_select(f,x)"
   ]
  },
  {
   "cell_type": "code",
   "execution_count": 92,
   "metadata": {},
   "outputs": [],
   "source": [
    "def __nest(f,x,n):\n",
    "    if n==0:\n",
    "        return x\n",
    "    else:\n",
    "        return __nest(f,f(x),n-1)\n",
    "    \n",
    "def nest(f,n):\n",
    "    return lambda x: __nest(f,x,n)\n",
    "\n",
    "def __nest_list(f,x,n):\n",
    "    if n==0:\n",
    "        return (x)\n",
    "    else:\n",
    "        return join_varg(((x), __nest_list(f,f(x),n-1)))\n",
    "        \n",
    "def nest_list(f,n):\n",
    "    return lambda x: __nest_list(f,x,n)\n",
    "\n",
    "# collatz = lamda x: 3*x+1 if x%2==1 else int(x/2)\n",
    "# __nest_list(collatz,17,20)"
   ]
  },
  {
   "cell_type": "code",
   "execution_count": 93,
   "metadata": {},
   "outputs": [],
   "source": [
    "def any_in(a,b):\n",
    "    return any([x for x in a if x in b])\n",
    "\n",
    "def all_in(a,b):\n",
    "    return any([x for x in a if x in b])"
   ]
  },
  {
   "cell_type": "code",
   "execution_count": 94,
   "metadata": {},
   "outputs": [],
   "source": [
    "def to_tuple(*arg):\n",
    "    return tuple(arg)"
   ]
  },
  {
   "cell_type": "code",
   "execution_count": 95,
   "metadata": {},
   "outputs": [],
   "source": [
    "def arg_sum(*arg):\n",
    "    return sum(tuple(arg))"
   ]
  },
  {
   "cell_type": "code",
   "execution_count": 96,
   "metadata": {},
   "outputs": [],
   "source": [
    "def string_join(*arg):\n",
    "    return ''.join(tuple(arg))"
   ]
  },
  {
   "cell_type": "code",
   "execution_count": 97,
   "metadata": {},
   "outputs": [],
   "source": [
    "def string_riffle(sep, varg_input=False):\n",
    "    if varg_input:\n",
    "        return lambda *arg: sep(join(tuple(arg)))\n",
    "    else:\n",
    "        return lambda lst: sep.join(tuple(lst))"
   ]
  },
  {
   "cell_type": "code",
   "execution_count": 98,
   "metadata": {},
   "outputs": [],
   "source": [
    "def __seq_riffle(l,sep):\n",
    "    return type(l)(chain(*[(i,sep) for i in l]))[0:-1]\n",
    "\n",
    "def seq_riffle(sep):\n",
    "    return lambda l: __seq_riffle(l,sep)"
   ]
  },
  {
   "cell_type": "code",
   "execution_count": 99,
   "metadata": {},
   "outputs": [],
   "source": [
    "def outer(f,g):\n",
    "    return lambda d1,d2: {f(k1,k2):g(v1,v2) for k1,v1 in d1.items for k2,v2 in d2.items()}"
   ]
  },
  {
   "cell_type": "code",
   "execution_count": 100,
   "metadata": {},
   "outputs": [],
   "source": [
    "#renamed from out_pickle\n",
    "def __to_pickle(fname,data):\n",
    "    print('pickle to ' + fname)\n",
    "    out_file = open(fname,'wb')\n",
    "    pickle.dump(data,out_file)\n",
    "    out_file.close()\n",
    "    \n",
    "def to_pickle(fname):\n",
    "    return lambda d: __to_pickle(fname,d)"
   ]
  },
  {
   "cell_type": "code",
   "execution_count": 101,
   "metadata": {},
   "outputs": [],
   "source": [
    "# renamed from in_pickle\n",
    "def from_pickle(fname):\n",
    "    in_file = open(fname,'rb')\n",
    "    res = pickle.load(in_file)\n",
    "    in_file.close()\n",
    "    return res"
   ]
  },
  {
   "cell_type": "code",
   "execution_count": 102,
   "metadata": {},
   "outputs": [],
   "source": [
    "def drop_file_suffix(x):\n",
    "    x_split = x.split('.')\n",
    "    if len(x_split)==1:\n",
    "        return x\n",
    "    else:\n",
    "        return '.'.join(x_split[:-1])"
   ]
  },
  {
   "cell_type": "code",
   "execution_count": 103,
   "metadata": {},
   "outputs": [],
   "source": [
    "def is_iterable(x):\n",
    "    try:\n",
    "        iter(x)\n",
    "        return(True)\n",
    "    except TypeError:\n",
    "        return(False)"
   ]
  },
  {
   "cell_type": "code",
   "execution_count": 104,
   "metadata": {},
   "outputs": [],
   "source": [
    "# this should be args not kwarg\n",
    "def __get(d,k,*kwarg):\n",
    "    if isinstance(d,dict):\n",
    "        try:\n",
    "            return d.get(k,*kwarg)\n",
    "        except:\n",
    "            return d\n",
    "    else:\n",
    "        return {}.get(k,*kwarg)\n",
    "    \n",
    "def ge(k,*kwarg):\n",
    "    return lambda d: __get(d,k,*kwarg)"
   ]
  },
  {
   "cell_type": "code",
   "execution_count": 105,
   "metadata": {},
   "outputs": [],
   "source": [
    "def __key_take(k,keys):\n",
    "    return {k:v for k,v in d.items() if k in keys}\n",
    "\n",
    "#def keyTake(keys):\n",
    "#    return lambda d: __key_take(d,keys)\n",
    "\n",
    "def key_take(keys):\n",
    "    return lambda d: __key_take(d,keys)\n",
    "\n",
    "def __key_drop(d,keys):\n",
    "    return {k:v for k,v in d.items() if k not in keys}\n",
    "\n",
    "#def keyDrop(keys):\n",
    "#    return lambda d: __key_drop(d,keys)\n",
    "\n",
    "def key_drop(keys):\n",
    "    return lambda d: __key_drop(d,keys)\n",
    "\n",
    "def __key(d,k):\n",
    "    return d.get(k)\n",
    "\n",
    "def key(k):\n",
    "    return lambda d: __key(d,k)\n",
    "\n",
    "# renamed from dict_slice"
   ]
  },
  {
   "cell_type": "code",
   "execution_count": 106,
   "metadata": {},
   "outputs": [],
   "source": [
    "def __key_select(f,d):\n",
    "    return {k:v for k,v in d.items() if f(k)}\n",
    "\n",
    "def key_select(f):\n",
    "    return lambda d: __key_select(f,d)"
   ]
  },
  {
   "cell_type": "code",
   "execution_count": 108,
   "metadata": {},
   "outputs": [],
   "source": [
    "def true(x):\n",
    "    return True\n",
    "\n",
    "def false(x):\n",
    "    return False"
   ]
  },
  {
   "cell_type": "code",
   "execution_count": 110,
   "metadata": {},
   "outputs": [],
   "source": [
    "def keys(d):\n",
    "    return tuple([k for k,v in d.items()])\n",
    "\n",
    "def values(d):\n",
    "    return tuple([v for k,v in d.items()])"
   ]
  },
  {
   "cell_type": "code",
   "execution_count": 111,
   "metadata": {},
   "outputs": [],
   "source": [
    "def to_key(k):\n",
    "    return lambda d: {k:d}\n",
    "\n",
    "def enumerate_dict_values(lst):\n",
    "    return {x[1]:x[0] for x in enumerate(lst)}\n",
    "\n",
    "def enumerate_dict_keys(lst):\n",
    "    return {x[0]:x[1] for x in enumerate(lst)}\n",
    "\n",
    "key_enumerate = enumerate_dict_keys"
   ]
  },
  {
   "cell_type": "code",
   "execution_count": 112,
   "metadata": {},
   "outputs": [],
   "source": [
    "def total(d):\n",
    "    return sum([v for k,v in d.items()])"
   ]
  },
  {
   "cell_type": "code",
   "execution_count": 113,
   "metadata": {},
   "outputs": [],
   "source": [
    "def join(*l):\n",
    "    if isinstance(l[0], (list,tuple)):\n",
    "        return [i for j in l for i in j]\n",
    "    elif isinstance(l[0],dict):\n",
    "        return {k:v for j in l for k,v in j.items()}\n",
    "    \n",
    "update = join"
   ]
  },
  {
   "cell_type": "code",
   "execution_count": 114,
   "metadata": {},
   "outputs": [],
   "source": [
    "def __dict_slice(d,slice):\n",
    "    if type(slice) is int:\n",
    "        k = list(d)[slice]\n",
    "        return d[k]\n",
    "    else:\n",
    "        return {k:d[k] for k in list(d)[slice]}\n",
    "    \n",
    "def dict_slice(slice):\n",
    "    return lambda d: __dict_slice(d,slice)"
   ]
  },
  {
   "cell_type": "code",
   "execution_count": 115,
   "metadata": {},
   "outputs": [],
   "source": [
    "def __take(x,*slc):\n",
    "    if isinstance(x,(list,tuple)):\n",
    "        return x[slice(*slc)]\n",
    "    \n",
    "def take(*slc):\n",
    "    return lambda x: __take(x,*slc)"
   ]
  },
  {
   "cell_type": "code",
   "execution_count": 116,
   "metadata": {},
   "outputs": [],
   "source": [
    "def dindex(i):\n",
    "    return lambda d: d[list(d)[i]]\n",
    "\n",
    "dix = dindex"
   ]
  },
  {
   "cell_type": "code",
   "execution_count": 117,
   "metadata": {},
   "outputs": [],
   "source": [
    "def ix(i):\n",
    "    return lambda d: d[i]"
   ]
  },
  {
   "cell_type": "code",
   "execution_count": 118,
   "metadata": {},
   "outputs": [],
   "source": [
    "def dslice(*args):\n",
    "    return lambda d: {k:d[k] for k in list(d)[slice(*args)]}"
   ]
  },
  {
   "cell_type": "code",
   "execution_count": 1,
   "metadata": {},
   "outputs": [],
   "source": [
    "def map_dict(f,d):\n",
    "    return {k:f(v) for k,v in d.items()}\n",
    "\n",
    "def __dict_map(f,d):\n",
    "    if isinstance(d, (list,tuple)):\n",
    "        return {x:f(x) for x in d}\n",
    "    elif isinstance(d,dict):\n",
    "        return {k:f(v) for k,v in d.items()}\n",
    "    \n",
    "def dict_map(f):\n",
    "    return lambda d: __dict_map(f,d)"
   ]
  },
  {
   "cell_type": "code",
   "execution_count": 120,
   "metadata": {},
   "outputs": [],
   "source": [
    "def __key_map(f,dict):\n",
    "    return {f(k):v for k,v in dict.items()}\n",
    "\n",
    "def key_map(f):\n",
    "    return lambda d: __key_map(f,d)"
   ]
  },
  {
   "cell_type": "code",
   "execution_count": 122,
   "metadata": {},
   "outputs": [],
   "source": [
    "def __key_subkey_map(f,d):\n",
    "    return key_value_map(lambda k,v:k, lambda k,v: key_map(lambda x: f(k,x))(v))(d)\n",
    "\n",
    "def key_subkey_map(f=lambda k,x: (k,x)):\n",
    "    return lambda d: __key_subkey_map(f,d)"
   ]
  },
  {
   "cell_type": "code",
   "execution_count": 123,
   "metadata": {},
   "outputs": [],
   "source": [
    "def map_dispatch(dispatch, only=False):\n",
    "    keys=list(dispatch)\n",
    "    if(only):\n",
    "        return lambda d: {k:dispatch.get(k, lambda x:x)(v) for k,v in d.items() if k in keys}\n",
    "    else:\n",
    "        return lambda d: {k:dispatch.get(k, lambda x:x)(v) for k,v in d.items()}"
   ]
  },
  {
   "cell_type": "code",
   "execution_count": 125,
   "metadata": {},
   "outputs": [],
   "source": [
    "def __sget(data,path):\n",
    "    assert len(path)>0\n",
    "    head,rest = (path[0], path[1:])\n",
    "    if len(path)==1:\n",
    "        return trap(lambda x:x[head])(data)\n",
    "    else:\n",
    "        return trap(lambda x: __sget(x[head],rest))(data)\n",
    "        \n",
    "def sget(path):\n",
    "    return lambda data: __sget(data,path)"
   ]
  },
  {
   "cell_type": "code",
   "execution_count": 126,
   "metadata": {},
   "outputs": [],
   "source": [
    "get_path = lambda path: rcomp(*[get(x) for x in path])"
   ]
  },
  {
   "cell_type": "code",
   "execution_count": 131,
   "metadata": {},
   "outputs": [],
   "source": [
    "class All(object):\n",
    "    def __init__(self):\n",
    "        pass\n",
    "    \n",
    "ALL = All()\n",
    "\n",
    "def match_q(x, item):\n",
    "    if isinstance(item,All):\n",
    "        return True\n",
    "    try:\n",
    "        if isinstance(item,str):\n",
    "            return x==item\n",
    "        return x==item or x in item\n",
    "    except TypeError:\n",
    "        return False\n",
    "    \n",
    "def query_path_item(data, path_item, f):\n",
    "    if isinstance(data, dict):\n",
    "        return {k:(f(v) if match_q(k, path_item) else v) for k,v in data.items()}\n",
    "    if isinstance(data, (list,tuple)):\n",
    "        return [f(x[1]) if match_q(x[0],path_item) else x[1] for x in enumerate(data)]\n",
    "    \n",
    "def get_path_item(data, path_item, f):\n",
    "    if isinstance(data, dict):\n",
    "        out = {k:f(v) for k,v in data.items() if match_q(k,path_item)}\n",
    "        return out\n",
    "    if isinstance(data, (list,tuple)):\n",
    "        out = [f(x[1]) for x in enumerate(data) if match_q(x[0],path_item)]\n",
    "        return out\n",
    "    \n",
    "def get_select_path_item(data, path_item, f,g):\n",
    "    if isinstance(data,dict):\n",
    "        matches = {k:f(v) for k,v in data.items() if match_q(k,path_item) and g(v)}\n",
    "        if isinstance(path_item,(list,All)):\n",
    "            return matches\n",
    "        else:\n",
    "            return matches.get(path_item)\n",
    "    elif isinstance(data, (list,tuple)):\n",
    "        matches = [f(x[1]) for x in enumerate(data) if match_q(x[0],path_item) and g(x[1])]\n",
    "        if isinstance(path_item,(list,All)):\n",
    "            return matches\n",
    "        else:\n",
    "            return matches[0]\n",
    "        \n",
    "def drop_path_item(data, path_item, f):\n",
    "    if isinstance(data, dict):\n",
    "        return {k:f(v) for k,v in data.items() if not match_q(k,path_item)}\n",
    "    if isinstance(data, (list,tuple)):\n",
    "        return [f(x[1]) for x in enumerate(data) if not match_q(x[0],path_item)]\n",
    "    \n",
    "def query(data, path, **kwarg):\n",
    "    if path==[]:\n",
    "        head=ALL\n",
    "    else:\n",
    "        head,rest = (path[0],path[1:])\n",
    "    if len(path)>1:\n",
    "        if 'MAP' in kwarg or 'SET' in kwarg:\n",
    "            return query_path_item(data, head, lambda x: query(x, rest, **kwarg))\n",
    "        else:\n",
    "            return get_path_item(data,head,lambda x: query(x,rest,**kwarg))\n",
    "    else:\n",
    "        if 'GET' in kwarg:\n",
    "            if 'SELECT' in kwarg:\n",
    "                return get_select_path_item(data,head,lambda x: kwarg.get('GET')(x),lambda x: kwarg.get('SELECT')(x))\n",
    "            else:\n",
    "                return get_path_item(data, head, lambda x: kwarg.get('GET')(x))\n",
    "        elif 'SET' in kwarg:\n",
    "            return query_path_item(data, head, lambda x: kwarg.get('SET'))\n",
    "        elif 'MAP' in kwarg:\n",
    "            return query_path_item(data, head, lambda x: kwarg.get('MAP')(x))\n",
    "        elif 'DROP' in kwarg:\n",
    "            return get_path_item(data, head, lambda x: key_drop(x, kwarg.get('DROP')))\n",
    "        else:\n",
    "            # implicit GET\n",
    "            return get_path_item(data, head, lambda x:x)"
   ]
  },
  {
   "cell_type": "code",
   "execution_count": 133,
   "metadata": {},
   "outputs": [],
   "source": [
    "def query2(data, path, **kwarg):\n",
    "    if path==[]:\n",
    "        head=All\n",
    "    else:\n",
    "        head, rest = (path[0], path[1:])\n",
    "    if len(path)>1:\n",
    "        if 'MAP' in kwarg or 'SET' in kwarg:\n",
    "            return query_path_item(data, head, lambda x: query(x,rest,**kwarg))\n",
    "        elif 'GET' in kwarg:\n",
    "            if 'SELECT' in kwarg:\n",
    "                #print('in select')\n",
    "                return get_select_path_item(data, head, lambda x: query(x, rest, **kwarg))\n",
    "            else:\n",
    "                return get_path_item(data, head, lambda x: kwarg.get('GET')(x))\n",
    "        else:\n",
    "            return get_path_item(data, head, lambda x: query(x, rest, **kwarg))\n",
    "    else:\n",
    "        if 'GET' in kwarg:\n",
    "            if 'SELECT' in kwarg:\n",
    "                return get_select_path_item(data, head, lambda x: kwarg.get('GET')(x), lambda x: kwarg.get('SELECT')(x))\n",
    "            else:\n",
    "                return get_path_item(data,head, lambda x: kwarg.get('GET')(x))\n",
    "        elif 'SET' in kwarg:\n",
    "            return query_path_item(data, head, lambda x: kwarg.get('SET'))\n",
    "        elif 'MAP' in kwarg:\n",
    "            return query_path_item(data, head, lambda x: kwarg.get('MAP')(x))\n",
    "        elif 'DROP' in kwarg:\n",
    "            return get_path_item(data, head, lambda x: key_drop(x,kwarg.get('DROP')))\n",
    "        else:\n",
    "            # implicit GET\n",
    "            return get_path_item(data, head, lambda x:x)"
   ]
  },
  {
   "cell_type": "code",
   "execution_count": 135,
   "metadata": {},
   "outputs": [],
   "source": [
    "def map_at(path,f):\n",
    "    if path==[]:\n",
    "        return lambda d: f(d)\n",
    "    else:\n",
    "        return lambda d: query(d,path,MAP=f)\n",
    "    \n",
    "def get_at(path,f,g=true):\n",
    "    return lambda d: query(d,path,GET=f,SELECT=g)\n",
    "\n",
    "mat = map_at\n",
    "gat = get_at"
   ]
  },
  {
   "cell_type": "code",
   "execution_count": 136,
   "metadata": {},
   "outputs": [],
   "source": [
    "def level_transpose(i,j=()):\n",
    "    tr_fun = rcomp(transpose,mat([ALL],delete_none))\n",
    "    if j==():\n",
    "        j = i+1\n",
    "    if abs(i-j)==1:\n",
    "        return mat([ALL]*min(i,j), tr_fun)\n",
    "    else:\n",
    "        level_range = join(list(range(i,j)),list(range(i,j))[:-1][::-1])\n",
    "        return rcomp(*[mat([ALL]*k,tr_fun) for k in level_range])"
   ]
  },
  {
   "cell_type": "code",
   "execution_count": 137,
   "metadata": {},
   "outputs": [],
   "source": [
    "def level_cycle(*args):\n",
    "    if len(args)<2:\n",
    "        return level_transpose(*args)\n",
    "    else:\n",
    "        return rcomp(*[level_transpose(*x) for x in kgram(2)(args)])"
   ]
  },
  {
   "cell_type": "code",
   "execution_count": 138,
   "metadata": {},
   "outputs": [],
   "source": [
    "is_not = lambda x: x is not True"
   ]
  },
  {
   "cell_type": "code",
   "execution_count": 139,
   "metadata": {},
   "outputs": [],
   "source": [
    "def is_empty(x):\n",
    "    return x==[] or x=={}"
   ]
  },
  {
   "cell_type": "code",
   "execution_count": 140,
   "metadata": {},
   "outputs": [],
   "source": [
    "def is_not_empty(x):\n",
    "    return not is_empty(x)"
   ]
  },
  {
   "cell_type": "code",
   "execution_count": 141,
   "metadata": {},
   "outputs": [],
   "source": [
    "# http://code.activestate.com/recipes/577879-create-a-nested-dictionary-from-oswalk/\n",
    "\n",
    "def directory_dict(rootdir):\n",
    "    dir = {}\n",
    "    rootdir = rootdir.rstrip(os.sep)\n",
    "    start = rootdir.rfind(os.sep) + 1\n",
    "    for path, dirs, files in os.walk(rootdir):\n",
    "        folders = path[start:].split(os.sep)\n",
    "        subdir = dict(map(lambda x: (x,path+x if path[-1]==os.sep else path+os.sep+x),files))\n",
    "        parent = functools.reduce(dict.get, folders[:-1], dir)\n",
    "        parent[folders[-1]] = subdir\n",
    "    return dir[folders[0]]"
   ]
  },
  {
   "cell_type": "code",
   "execution_count": 142,
   "metadata": {},
   "outputs": [],
   "source": [
    "# use in nested dicts to filter out by key or value (eg directory tree walk)\n",
    "\n",
    "def recursive_value_filter(data0,value):\n",
    "    data = deepcopy(data0)\n",
    "    if isinstance(data,dict):\n",
    "        return {k:recursive_value_filter(v,value) for k,v in data.items() if v!=value}\n",
    "    return data\n",
    "\n",
    "def recursive_key_filter(data,**kwarg):\n",
    "    options = {'filter':(), 'key_map':identity, 'value_map':identity}\n",
    "    options.update(**kwarg)\n",
    "    \n",
    "    f = options.get('key_map')\n",
    "    g = options.get('value_map')\n",
    "    key = options.get('filter')\n",
    "    \n",
    "    if isinstance(data,dict):\n",
    "        if isinstance(key,(list,tuple)):\n",
    "            return {f(k):recursive_key_filter(v,**kwarg) for k,v in data.items() if k not in key}\n",
    "        else:\n",
    "            return {f(k):recursive_key_filter(v,**kwarg) for k,v in data.items() if k!=key}\n",
    "    return g(data)"
   ]
  },
  {
   "cell_type": "code",
   "execution_count": 143,
   "metadata": {},
   "outputs": [],
   "source": [
    "# partition a list into overapping consecutive pairs\n",
    "# deprecated by nwise\n",
    "def partition_list(k):\n",
    "    return [[f,s] for f,s in zip(x,x[1:])]"
   ]
  },
  {
   "cell_type": "code",
   "execution_count": 145,
   "metadata": {},
   "outputs": [],
   "source": [
    "def nwise(lst,k=2):\n",
    "    return list(zip(*[lst[i:] for i in range(k)]))"
   ]
  },
  {
   "cell_type": "code",
   "execution_count": 148,
   "metadata": {},
   "outputs": [],
   "source": [
    "# operator form of nwise, but pass k explicitly\n",
    "def kgram(k):\n",
    "    return lambda lst: nwise(lst,k)"
   ]
  },
  {
   "cell_type": "code",
   "execution_count": 150,
   "metadata": {},
   "outputs": [],
   "source": [
    "def unique_consecutive(x):\n",
    "    return [v for i,v in enumerate(x) if i==0 or v!=x[i-1]]\n",
    "\n",
    "dedup_consecutive = unique_consecutive"
   ]
  },
  {
   "cell_type": "code",
   "execution_count": 151,
   "metadata": {},
   "outputs": [],
   "source": [
    "def __dedup_consecutive_by(f,x):\n",
    "    return [v for i,v in enumerate(x) if i==0 or f(v)!=f(x[i-1])]\n",
    "\n",
    "def dedup_consecutive_by(f):\n",
    "    return lambda x: __dedup_consecutive_by(f,x)"
   ]
  },
  {
   "cell_type": "code",
   "execution_count": 153,
   "metadata": {},
   "outputs": [],
   "source": [
    "def __unique_consecutive_d(d,**kwarg):\n",
    "    options = {'pick':dslice(0,1)}\n",
    "    options.update()\n",
    "    return rcomp(splitby_d(**kwrag),mat([ALL],options['pick']),join_varg)(d)\n",
    "\n",
    "def unique_consecutive_d(**kwarg):\n",
    "    return lambda d: __unique_consecutive_d(d,**kwarg)"
   ]
  },
  {
   "cell_type": "code",
   "execution_count": 154,
   "metadata": {},
   "outputs": [],
   "source": [
    "def is_subseq(x,y):\n",
    "    it = iter(y)\n",
    "    return all(c in it for c in x)"
   ]
  },
  {
   "cell_type": "code",
   "execution_count": 155,
   "metadata": {},
   "outputs": [],
   "source": [
    "def islice_dict(dict,*pos):\n",
    "    return dict(islice(dict.items()),*pos)"
   ]
  },
  {
   "cell_type": "code",
   "execution_count": 158,
   "metadata": {},
   "outputs": [],
   "source": [
    "def __block_map(f,ls,n,offset=1,delete_tail=False):\n",
    "    if isinstance(ls,(list,tuple)):\n",
    "        if delete_tail:\n",
    "            return type(ls)([f(ls[i:i+n]) for i in range(0,len(ls)-1,offset) if len(ls[i:i+n])==n])\n",
    "        else:\n",
    "            return type(ls)([f(ls[i:i+n]) for i in range(0,len(ls)-1,offset)])\n",
    "    elif isinstance(ls,dict):\n",
    "        return __block_map(rcomp(dict,map_at([ALL],f)),list(ls.items()),n,offset,delete_tail)\n",
    "\n",
    "def block_map(f,*arg,**kwarg):\n",
    "    return lambda ls: __block_map(f,ls,*arg,**kwarg)"
   ]
  },
  {
   "cell_type": "code",
   "execution_count": 159,
   "metadata": {},
   "outputs": [],
   "source": [
    "# zip longest \n",
    "from itertools import zip_longest\n",
    "def grouper(iterable, n, fill=None):\n",
    "    args = [iter(iterable)]*n\n",
    "    return zip_longest(*args, fillvalue=fill)"
   ]
  },
  {
   "cell_type": "code",
   "execution_count": 160,
   "metadata": {},
   "outputs": [],
   "source": [
    "# returns a sliding window of width n over iterable\n",
    "from itertools import islice\n",
    "def window(seq,n=2):\n",
    "    it = iter(seq)\n",
    "    result = tuple(islice(it,n))\n",
    "    if len(result)==n:\n",
    "        yield result\n",
    "    for elem in it:\n",
    "        result = result[1:]+(elem,)\n",
    "        yield result"
   ]
  },
  {
   "cell_type": "code",
   "execution_count": 161,
   "metadata": {},
   "outputs": [],
   "source": [
    "# return indices of list elements based on predicate\n",
    "def find_indices(lst,cond):\n",
    "    return [i for i,elem in enumerate(lst) if cond(elem)]"
   ]
  },
  {
   "cell_type": "code",
   "execution_count": 162,
   "metadata": {},
   "outputs": [],
   "source": [
    "# improved version of splitby_d that works with both lists/tuples and dict - return a nested list of segments\n",
    "def __splitby(d,f,**kwarg):\n",
    "    if len(d)<2:\n",
    "        return [d]\n",
    "    else:\n",
    "        if isinstance(d,dict):\n",
    "            return [dict(v) for k,v in groupby(dict_to_tuple(d), key=rcomp(last,f))]\n",
    "        elif isinstance(d,(list,tuple)):\n",
    "            return [list(v) for k,v in grouopby(d,key=f)]\n",
    "        \n",
    "def splitby(f,**kwarg):\n",
    "    return lambda d: __splitby(d,f,**kwarg)"
   ]
  },
  {
   "cell_type": "code",
   "execution_count": 163,
   "metadata": {},
   "outputs": [],
   "source": [
    "#a slighly faster solution not involving a callable can be done with \n",
    "# https://stackoverflow.com/questions/54315501/pands-stack-groupby-to-dataframe-multiindex-without-aggregating\n",
    "def group_to_index(df,grouper):\n",
    "    return pd.concat({k: v for k, v in df.groupby(by=grouper)})"
   ]
  },
  {
   "cell_type": "code",
   "execution_count": 167,
   "metadata": {},
   "outputs": [],
   "source": [
    "# fails with None\n",
    "type_markup = lambda x: (x is not None, '' if isinstance(x,Number) else type(x).__name, x)"
   ]
  },
  {
   "cell_type": "code",
   "execution_count": 170,
   "metadata": {},
   "outputs": [],
   "source": [
    "def groupby_dict(d, f, **kwarg):\n",
    "    vf = kwarg.get('map')\n",
    "    if isinstance(d,(list,tuple)):\n",
    "        if vf:\n",
    "            return {k:vf(list(g)) for k,g in grouopby(sorted(d, key=lambda x: type_markup(f(x))), f)}\n",
    "        else:\n",
    "            return {k:list(g) for k,g in groupby(sorted(d, key=lambda x: type_markup(f(x))), f)}\n",
    "    elif isinstance(d,dict):\n",
    "        grouped = grouopby_dict(list(d.values()), f)\n",
    "        if vf:\n",
    "            return {k0:{k:vf(v) for k,v in d.items() if v in v0} for k0,v0 in grouped.items()}\n",
    "        else:\n",
    "            return {k0:{k:v for k,v in d.items() if v in v0} for k0,v0 in grouped.items()}\n",
    "    else:\n",
    "        raise TypeError('unsupported operand type', type(d))"
   ]
  },
  {
   "cell_type": "code",
   "execution_count": 171,
   "metadata": {},
   "outputs": [],
   "source": [
    "# bug at len(x[1])- possibly due to refactor of sort_dict\n",
    "def groupby_sort_dict(d,f,**kwarg):\n",
    "    dg = groupby_dict(d,f,**kwarg)\n",
    "    return sort_dict(dg,key=lambda x:len(x), reverse=True)"
   ]
  },
  {
   "cell_type": "code",
   "execution_count": 172,
   "metadata": {},
   "outputs": [],
   "source": [
    "def groupby_d(f,**kwarg):\n",
    "    return lambda d: groupby_dict(d,f,**kwarg)"
   ]
  },
  {
   "cell_type": "code",
   "execution_count": 173,
   "metadata": {},
   "outputs": [],
   "source": [
    "# this groups by key and uses key itself as a higher key\n",
    "\n",
    "def groupby_key(k,**kwarg):\n",
    "    options = {'superkey':False, 'missing_value':None}\n",
    "    options.update(**kwarg)\n",
    "    if options['superkey']:\n",
    "        return lambda x: to_key(k)(groupby_sort_dict(x,lambda x:x.get(k,options['missing_value'])))\n",
    "    else:\n",
    "        return lambda x: groupby_sort_dict(x,lambda x:x.get(k,options['missing_value']))\n",
    "    \n",
    "def groupby_nokey(k):\n",
    "    return lambda x: groupby_sort_dict(x,lambda x:x.get(k))"
   ]
  },
  {
   "cell_type": "code",
   "execution_count": 174,
   "metadata": {},
   "outputs": [],
   "source": [
    "def dekey(d):\n",
    "    k = list(d.keys())\n",
    "    return d[k[0]]"
   ]
  },
  {
   "cell_type": "code",
   "execution_count": 175,
   "metadata": {},
   "outputs": [],
   "source": [
    "def keygroupby_dict(d,f):\n",
    "    if type(d) == dict:\n",
    "        grouped = groupby_dict(list,d.keys(), f)\n",
    "        return {k0: {k:v for k,v in d.items() if k in v0} for k0,v0 in grouped.items()}\n",
    "    else:\n",
    "        raise TypeError('unsuppored operand type', type(d))\n",
    "        \n",
    "def keygroupby_d(f):\n",
    "    return lambda d: keygroupby_dict(d,f)"
   ]
  },
  {
   "cell_type": "code",
   "execution_count": 176,
   "metadata": {},
   "outputs": [],
   "source": [
    "def list_trie(d):\n",
    "    if isinstance(d,list):\n",
    "        return grouby_dict(d,first,map=lambda x:list_trie([y for y in query(x,[ALL],MAP=rest) if y!=[]]))\n",
    "    else:\n",
    "        raise TypeError(\"unsupported operand type \", type(d))"
   ]
  },
  {
   "cell_type": "code",
   "execution_count": 180,
   "metadata": {},
   "outputs": [],
   "source": [
    "def thread_keys(keys):\n",
    "    return lambda vals: dict(zip(keys,vals))\n",
    "\n",
    "def thread_values(vals):\n",
    "    return lambda keys: dict(zip(keys,vals))"
   ]
  },
  {
   "cell_type": "code",
   "execution_count": 181,
   "metadata": {},
   "outputs": [],
   "source": [
    "#first = lambda x: x[0]\n",
    "#last = lambda x: x[-1]\n",
    "def nth(n):return lambda x: x[n]"
   ]
  },
  {
   "cell_type": "code",
   "execution_count": 182,
   "metadata": {},
   "outputs": [],
   "source": [
    "identity = lambda x:x"
   ]
  },
  {
   "cell_type": "code",
   "execution_count": 183,
   "metadata": {},
   "outputs": [],
   "source": [
    "def iloc(i):\n",
    "    def _iloc(d):\n",
    "        partial = DF.from_dict(d,orient='index').iloc[i][0]\n",
    "        try:\n",
    "            return partial.to_dict()\n",
    "        except AttributeError:\n",
    "            return partial\n",
    "    return _iloc"
   ]
  },
  {
   "cell_type": "code",
   "execution_count": 184,
   "metadata": {},
   "outputs": [],
   "source": [
    "def sort_dict(d,**kwarg):\n",
    "    if kwarg.get('key'):\n",
    "        kwarg['key'] = rcomp(last,kwarg['key'])\n",
    "    else:\n",
    "        kwarg['key'] = lambda x: x[1]\n",
    "    return dict(sorted(d.items(), **kwarg))\n",
    "\n",
    "def sort_d(**kwarg):\n",
    "    return lambda d: sort_dict(d,**kwarg)"
   ]
  },
  {
   "cell_type": "code",
   "execution_count": 185,
   "metadata": {},
   "outputs": [],
   "source": [
    "def keysort_dict(d, **kwargs):\n",
    "    if isinstance(d,dict):\n",
    "        return {k:d[k] for k in sorted(d.keys(), **kwargs)}\n",
    "    else:\n",
    "        raise TypeError(\"unsupported argument type\")"
   ]
  },
  {
   "cell_type": "code",
   "execution_count": 186,
   "metadata": {},
   "outputs": [],
   "source": [
    "def keysort_dict__(**kwargs):\n",
    "    return lambda d: {k:d[k] for k in sorted(d.keys(), **kwargs)}\n",
    "\n",
    "def keysort_d(**kwawrgs):\n",
    "    return keysort_dict__(**kwargs)"
   ]
  },
  {
   "cell_type": "code",
   "execution_count": 187,
   "metadata": {},
   "outputs": [],
   "source": [
    "# sort pandas dataframe\n",
    "\n",
    "def __sort_df(f,df0,**kwarg):\n",
    "    df = df0.copy()\n",
    "    df = df.assign(sort_value=f).sort_values('sort_value', **key_drop('show_sort_values')(kwarg))\n",
    "    if(kwarg.get('show_sort_values')):\n",
    "        return df\n",
    "    else:\n",
    "        return df.drop(columns=['sort_value'])\n",
    "    \n",
    "def sort_df(f,**kwarg):\n",
    "    return lambda df0: __sort_df(f,df0,**kwarg)"
   ]
  },
  {
   "cell_type": "code",
   "execution_count": 188,
   "metadata": {},
   "outputs": [],
   "source": [
    "# experimental missing-value object - to capture missing(None), missing(TypeError) uniformly\n",
    "class Missing(object):\n",
    "    def __init(self, value=None):\n",
    "        self.value = value\n",
    "    def __repr__(self):\n",
    "        return str(self.value)"
   ]
  },
  {
   "cell_type": "code",
   "execution_count": 189,
   "metadata": {},
   "outputs": [],
   "source": [
    "def first_keys_to_level(j):\n",
    "    return lambda d: {k:rc(*([dix(0)]*k),rc(keys,first))(d) for k in range(j)}"
   ]
  },
  {
   "cell_type": "code",
   "execution_count": 191,
   "metadata": {},
   "outputs": [],
   "source": [
    "def merge_dict(f,*args,filterNone=True,missing_handler=lambda x:x!=None):\n",
    "    outkeys = set().union(*[x.keys() for x in args])\n",
    "    def outvals(x):\n",
    "        return [y.get(x,None) for y in args]\n",
    "    if(filterNone):\n",
    "        return {x:f(tuple(filter(missing_handler,outvals(x)))) for x in outkeys}\n",
    "    else:\n",
    "        return {x:f(tuple(outvals(x))) for x in outkeys}\n",
    "    \n",
    "def merge_d(f,**kwarg):\n",
    "    return lambda d: merge_dict(f,*d,**kwarg)"
   ]
  },
  {
   "cell_type": "code",
   "execution_count": 192,
   "metadata": {},
   "outputs": [],
   "source": [
    "def flatten_list(l):\n",
    "    return type(l)(chain.from_iterable(l))"
   ]
  },
  {
   "cell_type": "code",
   "execution_count": 193,
   "metadata": {},
   "outputs": [],
   "source": [
    "def flatten_container(container):\n",
    "    for i in container:\n",
    "        if isinstance(i,(list,tuple)):\n",
    "            for j in flatten_container(i):\n",
    "                yield j\n",
    "            else:\n",
    "                yield i"
   ]
  },
  {
   "cell_type": "code",
   "execution_count": 194,
   "metadata": {},
   "outputs": [],
   "source": [
    "def flatten(c):\n",
    "    return type(c)(flatten_container(c))"
   ]
  },
  {
   "cell_type": "code",
   "execution_count": 197,
   "metadata": {},
   "outputs": [],
   "source": [
    "def flatten_at(pos):\n",
    "    if isinstance(pos,int):\n",
    "        pos = [pos]\n",
    "    return lambda lst: join(*[v if k in pos else [v] for k,v in enumerate(lst)])"
   ]
  },
  {
   "cell_type": "code",
   "execution_count": 198,
   "metadata": {},
   "outputs": [],
   "source": [
    "dict_to_tuples = lambda d: [(k,v) for k,v in d.items()]\n",
    "tuples_to_dict = lambda t: {x[0]:x[1] for x in t}"
   ]
  },
  {
   "cell_type": "code",
   "execution_count": 200,
   "metadata": {},
   "outputs": [],
   "source": [
    "# stackoverflow 19647596/1472770\n",
    "def __flatten_keys(dd, separator='_', prefix=''):\n",
    "    return { prefix + separator + k if prefix else k : v\n",
    "             for kk, vv in dd.items()\n",
    "             for k, v in flatten_dict(vv, separator, kk).items()\n",
    "           } if isinstance(dd, dict) else {prefix: dd}\n",
    "\n",
    "def flatten_keys(**kwarg):\n",
    "    return lambda d: __flatten_keys(d,**kwarg)"
   ]
  },
  {
   "cell_type": "code",
   "execution_count": 201,
   "metadata": {},
   "outputs": [],
   "source": [
    "# stackoverflow 56877666 flatten-nested-dictionaries-with-tuple-keys\n",
    "def flatten_dict(deep_dict,join_values=False):\n",
    "    def do_flatten(deep_dict, current_key):\n",
    "        for key, value in deep_dict.items():\n",
    "            new_key = current_key + (key,)\n",
    "            if isinstance(value,dict):\n",
    "                yield from do_flatten(value, new_key)\n",
    "            else:\n",
    "                yield (new_key, value)\n",
    "                \n",
    "    def do_value_join(k,v):\n",
    "        if isinstance(v,(list,tuple)):\n",
    "            return join(k,v)\n",
    "        else:\n",
    "            return join(k,(v,))\n",
    "        \n",
    "    if join_values:\n",
    "        return [do_value_join(k,v) for k,v in dict(do_flatten(deep_dict, ())).items()]\n",
    "    else:\n",
    "        return dict(do_flatten(deep_dict, ()))"
   ]
  },
  {
   "cell_type": "code",
   "execution_count": 202,
   "metadata": {},
   "outputs": [],
   "source": [
    "# TODO: this is suspect, why split\n",
    "def flatten_d(d):\n",
    "    return [k.split('_')+[v] for k,v in flatten_dict(d,separator='_').items()]"
   ]
  },
  {
   "cell_type": "code",
   "execution_count": 204,
   "metadata": {},
   "outputs": [],
   "source": [
    "def transpose(d,**kwarg):\n",
    "    #options = {'fillna':np.nan}\n",
    "    options = {'fillna':None}\n",
    "    options.update(**kwarg)\n",
    "    \n",
    "    if isinstance(d,(list,tuple)) and all([isinstance(x,(list,tuple)) for x in d]):\n",
    "        return list(zip(*d))\n",
    "    if isinstance(d,(list,tuple)) and all([isinstance(x,dict) for x in d]):\n",
    "        return {k:type(d)(v.values()) for k,v in transpose(key_enumerate(d),**options).items()}\n",
    "    elif isinstance(d,dict):\n",
    "        inner_keys = list(set(flatten_list([v.keys() for k,v in d.items()])))\n",
    "        return {i:{k:v.get(i,options['fillna']) for k,v in d.items()} for i in inner_keys}\n",
    "    \n",
    "def transpose__(**kwarg):\n",
    "    return lambda d: transpose(d,**kwarg)\n",
    "\n",
    "tr = transpose__"
   ]
  },
  {
   "cell_type": "code",
   "execution_count": 205,
   "metadata": {},
   "outputs": [],
   "source": [
    "# keys_to_dict(['a','b'])((10,20))\n",
    "\n",
    "def __keys_to_dict(data,keys):\n",
    "    if len(data)==len(keys):\n",
    "        return dict(transpose((keys,data)))\n",
    "    else:\n",
    "        raise ValueError('Length of data and keys must match')\n",
    "        \n",
    "def keys_to_dict(keys):\n",
    "    return lambda d: __keys_to_dict(d,keys)"
   ]
  },
  {
   "cell_type": "code",
   "execution_count": 206,
   "metadata": {},
   "outputs": [],
   "source": [
    "# gets the first key at leats level in a nested dict\n",
    "def first_key_at_levels(i,j):\n",
    "    return lambda d: {k:rc(*([dix(0)]*k),rc(keys,first))(d) for k in range(i,j)}"
   ]
  },
  {
   "cell_type": "code",
   "execution_count": 207,
   "metadata": {},
   "outputs": [],
   "source": [
    "# of form for list\n",
    "def sort(**kwarg):\n",
    "    return lambda x:sorted(x,**kwarg)"
   ]
  },
  {
   "cell_type": "code",
   "execution_count": 208,
   "metadata": {},
   "outputs": [],
   "source": [
    "def sorted_count(l):\n",
    "    return {l:w for l,w in \n",
    "            sorted([(k,v) for k,v in Counter(l).items()], key=itemgetter(1),reverse=True)\n",
    "           }"
   ]
  },
  {
   "cell_type": "code",
   "execution_count": 209,
   "metadata": {},
   "outputs": [],
   "source": [
    "def catch(errors):\n",
    "    def catch_f(*args,**kwargs):\n",
    "        try:\n",
    "            return lambda f: f(*args,**kwargs)\n",
    "        except errors as e:\n",
    "            return e\n",
    "    return catch_f"
   ]
  },
  {
   "cell_type": "code",
   "execution_count": 210,
   "metadata": {},
   "outputs": [],
   "source": [
    "def trap(f,**kwarg2):\n",
    "    options = {'error': BaseException, 'value':'error'}\n",
    "    options.update(**kwarg2)\n",
    "    def __trap__(*args,**kwargs):\n",
    "        try:\n",
    "            return f(*args,**kwargs)\n",
    "        except options['error'] as e:\n",
    "            if options['value']=='error':\n",
    "                return type(e)\n",
    "            elif options['value']=='pass':\n",
    "                pass\n",
    "            else:\n",
    "                return options['value']\n",
    "    return __trap__"
   ]
  },
  {
   "cell_type": "code",
   "execution_count": 211,
   "metadata": {},
   "outputs": [],
   "source": [
    "def type_trap(f):\n",
    "    def __trap__(*ars,**kwarg):\n",
    "        try:\n",
    "            return f(*args,**kwarg)\n",
    "        except BaseException as e:\n",
    "            return type(e)\n",
    "    return __trap__"
   ]
  },
  {
   "cell_type": "code",
   "execution_count": 213,
   "metadata": {},
   "outputs": [],
   "source": [
    "def catch(func, handle=lambda e: e, *args, **kwargs):\n",
    "    try:\n",
    "        return func(*args, **kwargs)\n",
    "    except Exception as e:\n",
    "        return handle(e)"
   ]
  },
  {
   "cell_type": "code",
   "execution_count": 214,
   "metadata": {},
   "outputs": [],
   "source": [
    "def index(pos):\n",
    "    return trap(lambda x: x[pos],error=IndexError)\n",
    "\n",
    "first = index(0)\n",
    "second = index(1)\n",
    "third = index(2)\n",
    "\n",
    "last = index(-1)\n",
    "rest = index(slice(1,None))"
   ]
  },
  {
   "cell_type": "code",
   "execution_count": 216,
   "metadata": {},
   "outputs": [],
   "source": [
    "# for pandas Series or List\n",
    "def value_counts_freq(ser,rounding=3):\n",
    "    if type(ser) == pd.core.series.Series:\n",
    "        tmp = se.value_counts(dropna=False)\n",
    "        tmp2 = tmp.to_frame((ser.name,'#'))\n",
    "        tmp3 = round(tmp/tmp.sum(),rounding).to_frame((ser.name,'%'))\n",
    "        return pd.merge(tmp2,tmp3,left_index=True,right_index=True)\n",
    "    \n",
    "    elif isinstance(ser,(list,tuple)):\n",
    "        return value_counts_freq(pd.Series(ser).rename(0),rounding)\n",
    "    else:\n",
    "        return ser\n",
    "    \n",
    "value_count_freq = value_counts_freq\n",
    "\n",
    "def count_fre(ser,rounding=3):\n",
    "    return value_counts_freq(ser,rounding)[0]\n",
    "\n",
    "def count_freq(ser,rounding=3):\n",
    "    options= {'rounding':3,'dict':True}\n",
    "    options.update(**kwarg)\n",
    "    \n",
    "    if options['dict']:\n",
    "        try:\n",
    "            return value_counts_freq(ser,options['rounding'])[0].T.to_dict()\n",
    "        except Excption as e:\n",
    "            return type(e)\n",
    "    else:\n",
    "        try:\n",
    "            return value_counts_freq(ser,options['roudning'])[0]\n",
    "        except Exception as e:\n",
    "            return type(e)\n",
    "        \n",
    "count_freq_dict = lambda x: count_freq(x,dict=False)\n",
    "count_freq_df = lambda x: count_freq(x,dict=True)"
   ]
  },
  {
   "cell_type": "code",
   "execution_count": 217,
   "metadata": {},
   "outputs": [],
   "source": [
    "count = lambda d: rcomp(count_freq, mat([ALL],get('#')))(d)"
   ]
  },
  {
   "cell_type": "code",
   "execution_count": 219,
   "metadata": {},
   "outputs": [],
   "source": [
    "def freq(d):\n",
    "    tot = sum(values(d))\n",
    "    return query(d,[ALL],MAP=lambda x: {'#':x, '%': x/tot})"
   ]
  },
  {
   "cell_type": "code",
   "execution_count": 221,
   "metadata": {},
   "outputs": [],
   "source": [
    "def __len_freq(d,rounding=3,key='#'):\n",
    "    lend = map_at([ALL],len)(d)\n",
    "    tot = sum(lend.values())\n",
    "    return sort_d(key=lambda x:x[key],reverse=True)(map_at([ALL],lambda x:{'#':x, '%':round(x/tot,rounding)})(lend))\n",
    "\n",
    "def len_freq(rounding=3):\n",
    "    return lambda d: __len_freq(d,rounding)"
   ]
  },
  {
   "cell_type": "code",
   "execution_count": 222,
   "metadata": {},
   "outputs": [],
   "source": [
    "# dataframe row and column sums\n",
    "def df_row_col_sum(df):\n",
    "    df['col_sum'] = df.sum(axis=1)\n",
    "    df = df.append(df.sum(axis=0).rename('row_sum'),ignore_index=False)\n",
    "    return df.sort_values(by='col_sum',ascending=False)"
   ]
  },
  {
   "cell_type": "code",
   "execution_count": 223,
   "metadata": {},
   "outputs": [],
   "source": [
    "def frange(start,stop,step):\n",
    "    i = start\n",
    "    while i < stop:\n",
    "        yield i\n",
    "        i += step"
   ]
  },
  {
   "cell_type": "code",
   "execution_count": 224,
   "metadata": {},
   "outputs": [],
   "source": [
    "def frange(start=0, stop=1, jump=0.1):\n",
    "    nsteps = int((stop-start)/jump)\n",
    "    dy = stop-start\n",
    "    # f(i) goes from start to stop as i goes from 0 to nsteps\n",
    "    return [start + float(i)*dy/nsteps for i in range(nsteps)]"
   ]
  },
  {
   "cell_type": "code",
   "execution_count": 225,
   "metadata": {},
   "outputs": [],
   "source": [
    "from fractions import Fraction\n",
    "\n",
    "def rrange(start=0, stop=1, jump=0.1):\n",
    "    nsteps = int((stop-start)/jump)\n",
    "    return [Fraction(i, nsteps) for i in range(nsteps)]"
   ]
  },
  {
   "cell_type": "code",
   "execution_count": 226,
   "metadata": {},
   "outputs": [],
   "source": [
    "def levenshteinDistance(s1,s2):\n",
    "    if len(s1) > len(s2):\n",
    "        s1, s2 = s2, s1\n",
    "        \n",
    "    distances = range(len(s1) + 1)\n",
    "    for i1, c2 in enumerate(s2):\n",
    "        distances_ = [i2+1]\n",
    "        for i1, c1 in enumerate(s1):\n",
    "            if c1 == c2:\n",
    "                distances_.append(distances[i1])\n",
    "            else:\n",
    "                distances.append(1 + min((distances[i1], distances[i1 + 1], distances_[-1])))\n",
    "        distances = distances_\n",
    "    return distances[-1]"
   ]
  },
  {
   "cell_type": "code",
   "execution_count": 227,
   "metadata": {},
   "outputs": [],
   "source": [
    "def tokenize(sr):\n",
    "    return sr.apply(lambda x: str(x).lower()).\\\n",
    "apply(lambda x: \" \".join([w for w in x.split() if w not in stopwords])).\\\n",
    "apply(lambda x: re.sub('[%s]' % re.escape(string.punctuation + \"-\" + \"0123456789\"), ' ', x))"
   ]
  },
  {
   "cell_type": "code",
   "execution_count": 228,
   "metadata": {},
   "outputs": [],
   "source": [
    "def ngram_gen(sr,k):\n",
    "    summary_grams = nwise(\" \".join(tokenize(sr).tolist()).split(' '),k)\n",
    "    return [\" \".join(x) for x in summary_grams if \"\" not in x]"
   ]
  },
  {
   "cell_type": "code",
   "execution_count": 229,
   "metadata": {},
   "outputs": [],
   "source": [
    "def ngram_range_gen(sr,rng):\n",
    "    summary_grams = {k:nwise(\" \".join(tokenize(sr).tolist()).split(' '),k) for k in rng}\n",
    "    return {k:[\" \".join(x) for x in v if \"\" not in x] for k,v in summary_grams.items()}"
   ]
  },
  {
   "cell_type": "code",
   "execution_count": 232,
   "metadata": {},
   "outputs": [],
   "source": [
    "# display dataframes side by side\n",
    "\n",
    "from IPython.display import display_html\n",
    "def display_side_by_side(*args):\n",
    "    html_str=''\n",
    "    for df in args:\n",
    "        html_str+=df.to_html()\n",
    "    display_html(html_str.replace('table','table style=\"display:inline\"'),raw=True)"
   ]
  },
  {
   "cell_type": "code",
   "execution_count": 233,
   "metadata": {},
   "outputs": [],
   "source": [
    "# stackoverflow 54315536/1472770\n",
    "# coldspeed answer\n",
    "\n",
    "def add_level(df,grouper):\n",
    "    return pd.concat({k:v for k,v in df.groupby(by=grouper)})"
   ]
  },
  {
   "cell_type": "code",
   "execution_count": 234,
   "metadata": {},
   "outputs": [],
   "source": [
    "def map_items(f,x):\n",
    "    return [f(i) for i in x.items()]"
   ]
  },
  {
   "cell_type": "code",
   "execution_count": 235,
   "metadata": {},
   "outputs": [],
   "source": [
    "def dict_to_tuple(d):\n",
    "    if type(d)==dict:\n",
    "        if len(d)>1:\n",
    "            return [(k,dict_to_tuple(v)) for k,v in d.items()]\n",
    "        else:\n",
    "            return [(k,dict_to_tuple(v)) for k,v in d.items()][0]\n",
    "    else:\n",
    "        return d"
   ]
  },
  {
   "cell_type": "code",
   "execution_count": 236,
   "metadata": {},
   "outputs": [],
   "source": [
    "# stackoverflow 29920015/1472770\n",
    "# camel case split\n",
    "\n",
    "def camel_case_split(identifier):\n",
    "    matches = re.finditer('.+?(?:(?<=[a-z])(?=[A-Z])|(?<=[A-Z])(?=[A-Z][a-z])|$)',identifier)\n",
    "    return [m.group(0) for m in matches]"
   ]
  },
  {
   "cell_type": "code",
   "execution_count": 237,
   "metadata": {},
   "outputs": [],
   "source": [
    "#stackoverflow 43357135\n",
    "# dima pasecnnik\n",
    "\n",
    "def apply_f(a,f):\n",
    "    try:\n",
    "        return f(a)\n",
    "    except:\n",
    "        return map(lambda t:apply_f(t,f),a)"
   ]
  },
  {
   "cell_type": "code",
   "execution_count": 238,
   "metadata": {},
   "outputs": [],
   "source": [
    "res = apply_f([(1,2),[[5]],[7,(8,[9,11])]], lambda t:t**2)"
   ]
  },
  {
   "cell_type": "code",
   "execution_count": 241,
   "metadata": {},
   "outputs": [],
   "source": [
    "def __plot_d(d,**kwarg):\n",
    "    return plt.plot(*(d.keys(),d.values()))\n",
    "\n",
    "def plot_d(**kwarg):\n",
    "    return lambda d: __plot_d(d,**kwarg)"
   ]
  },
  {
   "cell_type": "code",
   "execution_count": 242,
   "metadata": {},
   "outputs": [],
   "source": [
    "def list_scatterplot(lst):\n",
    "    return plt.scatter(*zip(*lst))"
   ]
  },
  {
   "cell_type": "code",
   "execution_count": 243,
   "metadata": {},
   "outputs": [],
   "source": [
    "def char_range(mini, maxi, step=1):\n",
    "    return [char(c) for c in range(ord(mini), ord(maxi)+1, step)]"
   ]
  },
  {
   "cell_type": "code",
   "execution_count": 244,
   "metadata": {},
   "outputs": [],
   "source": [
    "def any_all(lst):\n",
    "    return {'any': any(lst), 'all': all(lst)}"
   ]
  },
  {
   "cell_type": "code",
   "execution_count": 245,
   "metadata": {},
   "outputs": [],
   "source": [
    "def min_max(lst):\n",
    "    return [min(lst),max(lst)]"
   ]
  },
  {
   "cell_type": "code",
   "execution_count": 246,
   "metadata": {},
   "outputs": [],
   "source": [
    "def replace_by(d):\n",
    "    return lambda x: d[x] if x in d.keys() else x"
   ]
  },
  {
   "cell_type": "code",
   "execution_count": 247,
   "metadata": {},
   "outputs": [],
   "source": [
    "def key_replace(d):\n",
    "    return lambda d0: {replace_by(d)(k):v for k,v in d0.items()}"
   ]
  },
  {
   "cell_type": "code",
   "execution_count": 248,
   "metadata": {},
   "outputs": [],
   "source": [
    "def replace_value(oin,out):\n",
    "    return lambda x: out if x==oin else x"
   ]
  },
  {
   "cell_type": "code",
   "execution_count": 249,
   "metadata": {},
   "outputs": [],
   "source": [
    "def replace_values(oin_list,out):\n",
    "    return lambda x: out if x in oin_list else x"
   ]
  },
  {
   "cell_type": "code",
   "execution_count": 250,
   "metadata": {},
   "outputs": [],
   "source": [
    "def __case(d,f,g):\n",
    "    if isinstance(d,dict):\n",
    "        return {k:g(v) for k,v in d.items() if f(v)}\n",
    "    elif isinstance(d,(list,tuple)):\n",
    "        return [g(v) for v in d if f(v)]\n",
    "    \n",
    "def case(f,g=identity):\n",
    "    return lambda d: __case(d,f,g)\n",
    "\n",
    "def __key_case(d,f,g):\n",
    "    return {g(k):v for k,v in d.items() if f(k)}\n",
    "\n",
    "def key_case(f,g=identity):\n",
    "    return lambda d: __key_case(d,f,g)"
   ]
  },
  {
   "cell_type": "code",
   "execution_count": 251,
   "metadata": {},
   "outputs": [],
   "source": [
    "# deprecated - uses cases dict form \n",
    "#def cases_pairs(*fg_list):\n",
    "#    return rcomp(mat([ALL],lambda x: get(True)({f[0](x):f[1](x) for f in fg_list[::-1]})),delete_none) "
   ]
  },
  {
   "cell_type": "code",
   "execution_count": 252,
   "metadata": {},
   "outputs": [],
   "source": [
    "def cases(fg):\n",
    "    assert(isinstance(fg,dict))\n",
    "    return rcomp(mat([ALL],lambda x: get(True)({f(x):g(x) for f,g in reverse(fg).items()})),delete_none)"
   ]
  },
  {
   "cell_type": "code",
   "execution_count": null,
   "metadata": {},
   "outputs": [],
   "source": [
    "#stats"
   ]
  },
  {
   "cell_type": "code",
   "execution_count": 269,
   "metadata": {},
   "outputs": [],
   "source": [
    "def quantiles(qlist,**kwarg):\n",
    "    options = {'labeled':True}\n",
    "    options.update(**kwarg)\n",
    "    if options['labeled']:\n",
    "        qlabels = {0:'min',0.25:'lqt', 0.5:'med', 0.75:'hqt', 1:'max'}\n",
    "        return lambda data: {replace_by(qlabels)(x):np.quantile(data,x) for x in qlist}\n",
    "    else:\n",
    "        return lambda data: {x:np.quantile(data,x) for x in qlist}"
   ]
  },
  {
   "cell_type": "code",
   "execution_count": 255,
   "metadata": {},
   "outputs": [],
   "source": [
    "def labeled_quantiles(qlist):\n",
    "    qlabels = {0:'min', 0.25:'lqt', 0.5:'med', 0.75:'hqt', 1:'max'}\n",
    "    return lambda data: {x:np.quantile(data,x) for x in qlist}"
   ]
  },
  {
   "cell_type": "code",
   "execution_count": 256,
   "metadata": {},
   "outputs": [],
   "source": [
    "quartiles = [0, 0.25, 0.5, 0.75, 1.0]"
   ]
  },
  {
   "cell_type": "code",
   "execution_count": 258,
   "metadata": {},
   "outputs": [],
   "source": [
    "def quantile_stats(qt, **kwarg):\n",
    "    return rc(groupby_d(lambda x: isinstance(x,numbers.Number)), mat([True],rc(through(quantiles(qt,**kwarg),rc(len,to_key('count'))),join_varg)), mat([False],rc(len,to_key('missing_count'))),\n",
    "              lambda x: join_varg([x.get(True,join(dict_map(lambda x:None)(qt), {'count':0})), x.get(False,{'missing_count':0})]))"
   ]
  },
  {
   "cell_type": "code",
   "execution_count": 274,
   "metadata": {},
   "outputs": [
    {
     "data": {
      "text/plain": [
       "{'count': 8,\n",
       " 'hqt': 4.0,\n",
       " 'lqt': 2.0,\n",
       " 'max': 6,\n",
       " 'med': 4.0,\n",
       " 'min': 1,\n",
       " 'missing_count': 0}"
      ]
     },
     "execution_count": 274,
     "metadata": {},
     "output_type": "execute_result"
    }
   ],
   "source": [
    "#quantile_stats(quartiles)([1,2,4,4,4,4,6,2])"
   ]
  },
  {
   "cell_type": "code",
   "execution_count": 260,
   "metadata": {},
   "outputs": [],
   "source": [
    "def percentiles(*args,**kwargs):\n",
    "    return rcomp(quantiles(*args,**kwargs), key_map(lambda x: str(100*x)+'%'))"
   ]
  },
  {
   "cell_type": "code",
   "execution_count": null,
   "metadata": {},
   "outputs": [],
   "source": [
    "# stackoverflow 17303428 colors\n",
    "\n",
    "####\n",
    "####\n",
    "\n",
    "#print(color['BLUE'] + 'Data_' + color['RED'] + 'Utilities')\n"
   ]
  },
  {
   "cell_type": "code",
   "execution_count": null,
   "metadata": {},
   "outputs": [],
   "source": [
    "# activestate recipes 384122 infix operators\n",
    "\n"
   ]
  },
  {
   "cell_type": "code",
   "execution_count": 262,
   "metadata": {},
   "outputs": [],
   "source": [
    "# stackoverflow 548349333 (mad physicist)\n",
    "\n",
    "def slice2range(s):\n",
    "    step = 1 if s.step is None else s.step\n",
    "    if (s.stop is None and step > 0) or (s.start is None and step <0):\n",
    "        raise ValueError('Must have valid stop')\n",
    "    start = 0 if s.start is None else s.start\n",
    "    stop = -1 if s.stop is None else s.stop\n",
    "    return range(start, stop, step)"
   ]
  },
  {
   "cell_type": "code",
   "execution_count": 263,
   "metadata": {},
   "outputs": [],
   "source": [
    "# generator approach to subset\n",
    "\n",
    "def numberlist(nums, limit):\n",
    "    def f(nums, limit):\n",
    "        sum = 0\n",
    "        for x in nums:\n",
    "            sum += x\n",
    "            yield x\n",
    "            if sum > limit:\n",
    "                return\n",
    "            \n",
    "    return list(f(nums,limit))"
   ]
  },
  {
   "cell_type": "code",
   "execution_count": 266,
   "metadata": {},
   "outputs": [],
   "source": [
    "def select_to_limit(d,func,limit):\n",
    "    def f(d, limit):\n",
    "        sum = 0\n",
    "        for k,v in d.items():\n",
    "            sum += func(v)\n",
    "            yield {k:v}\n",
    "            if sum > limit:\n",
    "                return\n",
    "                \n",
    "    return functools.reduce(lambda x,y: {**x,**y}, f(d,limit))"
   ]
  },
  {
   "cell_type": "code",
   "execution_count": 267,
   "metadata": {},
   "outputs": [],
   "source": [
    "def right_compose(*fn):\n",
    "    return lambda x: functools.reduce(lambda f, g: g(f), list(fn), x)\n",
    "\n",
    "def compose(*fn):\n",
    "    return right_compose(*reversed(fn))\n",
    "\n",
    "r_comp = right_compose\n",
    "rcomp = right_compose\n",
    "rc = right_compose"
   ]
  },
  {
   "cell_type": "code",
   "execution_count": 275,
   "metadata": {},
   "outputs": [],
   "source": [
    "def value_len():\n",
    "    return lambda kv: len(kv[1])"
   ]
  },
  {
   "cell_type": "code",
   "execution_count": 276,
   "metadata": {},
   "outputs": [],
   "source": [
    "def subsubme_kv(k_name, v_name='data'):\n",
    "    return lambda d:[{k_name:k, vname:v} for k,v in d.items()]"
   ]
  },
  {
   "cell_type": "code",
   "execution_count": 277,
   "metadata": {},
   "outputs": [],
   "source": [
    "enumerate_dict = rcomp(enumerate,dict)"
   ]
  },
  {
   "cell_type": "code",
   "execution_count": 279,
   "metadata": {},
   "outputs": [],
   "source": [
    "def to_csv(file_path):\n",
    "    def writer(data):\n",
    "        with open(file_path, 'w', encoding='utf8', newline='') as tsv_file:\n",
    "            tsv_writer = csv.writer(tsv_file, delimiter='\\t', lineterminator='\\n')\n",
    "            return [tsv_writer.writerow(row) for row in data]\n",
    "    return writer"
   ]
  },
  {
   "cell_type": "code",
   "execution_count": null,
   "metadata": {},
   "outputs": [],
   "source": [
    "# JSON"
   ]
  },
  {
   "cell_type": "code",
   "execution_count": 282,
   "metadata": {},
   "outputs": [],
   "source": [
    "def normalize_json_key_type(x):\n",
    "    if isinstance(x,(dt.date,dt.datetime)):\n",
    "        return x.isoformat()\n",
    "    elif isinstance(x,(str,int, float, bool, type(None))):\n",
    "        return x\n",
    "    else:\n",
    "        return str(x)\n",
    "    \n",
    "def normalize_json_value_type(x):\n",
    "    if isinstance(x,(dt.date, dt.datetime)):\n",
    "        return x.isoformat()\n",
    "    elif isinstance(x,type):\n",
    "        return str(x)\n",
    "    else:\n",
    "        return x\n",
    "\n",
    "def normalize_json_container(d):\n",
    "    if isinstance(d, dict):\n",
    "        return {normalize_json_key_type(k): normalize_json_value_type(normalize_json_cointainer(v)) for k,v in d.items()}\n",
    "    elif isinstance(d,(list,tuple)):\n",
    "        return [normalize_json_value_type(normalize_json_container(x)) for x in d]\n",
    "    else:\n",
    "        return d"
   ]
  },
  {
   "cell_type": "code",
   "execution_count": 283,
   "metadata": {},
   "outputs": [],
   "source": [
    "def __to_json(path,data,normalize=True, **kwarg):\n",
    "    options = {'sort_keys': False, 'default': str}\n",
    "    options.update(**kwarg)\n",
    "    with open(path,'w') as outfile:\n",
    "        if(normalize):\n",
    "            json.dump(normalize_json_container(data), outfile, indent=4, **options)\n",
    "        else:\n",
    "            json.dump(data, outfile, indent=4,**options)\n",
    "            \n",
    "def to_json(path,**kwarg):\n",
    "    return lambda d: __to_json(path,d,**kwarg)"
   ]
  },
  {
   "cell_type": "code",
   "execution_count": 285,
   "metadata": {},
   "outputs": [],
   "source": [
    "def __from_json(fp,**kwarg):\n",
    "    with open(fp,'r') as infile:\n",
    "        return json.load(infile,**kwarg)\n",
    "    \n",
    "def from_json(**kwarg):\n",
    "    return lambda fp: __from_json(fp,**kwarg)"
   ]
  },
  {
   "cell_type": "code",
   "execution_count": 286,
   "metadata": {},
   "outputs": [],
   "source": [
    "def __to_json_string(data,normalize=True,**kwarg):\n",
    "    options = {'sort_keys':False, 'default':str}\n",
    "    options.update(**kwarg)\n",
    "    if(normalize):\n",
    "        return json.dumps(normalize_json_container(data), indent=4,**options)\n",
    "    else:\n",
    "        return json.dumps(data, indent=4,**options)\n",
    "    \n",
    "def to_json_string(**kwarg):\n",
    "    return lambda d: __to_json_string(d,**kwarg)"
   ]
  },
  {
   "cell_type": "code",
   "execution_count": null,
   "metadata": {},
   "outputs": [],
   "source": [
    "# date/time"
   ]
  },
  {
   "cell_type": "code",
   "execution_count": 287,
   "metadata": {},
   "outputs": [],
   "source": [
    "def datetimestring(**kwarg):\n",
    "    opt = {'format':'compact','sep':''}\n",
    "    opt.update(**kwarg)\n",
    "    \n",
    "    if opt['format']=='compact':\n",
    "        return opt['sep'] + dt.datetime.now().strftime('%Y%m%d_%H%M') + opt['sep']\n",
    "    if opt['format']=='iso':\n",
    "        return opt['sep'] + dt.datetime.now().strftime('%Y-%m-%dT%H%M') + opt['sep']"
   ]
  },
  {
   "cell_type": "code",
   "execution_count": 288,
   "metadata": {},
   "outputs": [],
   "source": [
    "def date_range(d1,d2,**kwarg):\n",
    "    options = {'format': '%Y-%m-%d'}\n",
    "    options.update(**kwarg)\n",
    "    \n",
    "    d1_date = dt.datetime.strptime(d1,'%Y-%m-%d')\n",
    "    d2_date = dt.datetime.strptime(d2,'%Y-%m-%d')\n",
    "    days_range = (d2_date-d1_date).days\n",
    "    \n",
    "    date_list = [d1_date + dt.timedelta(days=x) for x in range(0,days_range+1)]\n",
    "    \n",
    "    if options.get('format')==False:\n",
    "        return date_list\n",
    "    else:\n",
    "        return [x.strftime(options.get('format')) for x in date_list]"
   ]
  },
  {
   "cell_type": "code",
   "execution_count": 289,
   "metadata": {},
   "outputs": [],
   "source": [
    "def __date_plus_days(d,n):\n",
    "    if(isinstance(d,dt.datetime)):\n",
    "        return d+dt.timedelta(days=n)\n",
    "    elif(isinstance(d,str)):\n",
    "        return (dt.datetime.strptime(d,'%Y-%m-%d')+dt.timedelta(days=n)).strftime('%Y-%m-%d')\n",
    "    \n",
    "def date_plus_days(n):\n",
    "    return lambda d: __date_plus_days(d,n)"
   ]
  },
  {
   "cell_type": "code",
   "execution_count": null,
   "metadata": {},
   "outputs": [],
   "source": [
    "def to_iso_date(s):\n",
    "    return dt.datetime.fromisoformat(s)\n",
    "\n",
    "def from_iso_date(d,time=False):\n",
    "    if time=='iso':\n",
    "        return d.isoformat()\n",
    "    elif time=='HMS':\n",
    "        return d.strftime('%Y-%m-%dT%H%M%S')\n",
    "    elif time==True:\n",
    "        return d.strftime('%Y-%m-%dT%H%M%Sf')\n",
    "    elif time==False:\n",
    "        return d.strftime('%Y-%m-%d')\n",
    "    \n",
    "    dt.datetime.isoformat(x)\n",
    "    \n",
    "# deprecated\n",
    "# iso_date = to_iso_date"
   ]
  },
  {
   "cell_type": "code",
   "execution_count": 290,
   "metadata": {},
   "outputs": [],
   "source": [
    "# convert iso date to numerical rep for matplotlib\n",
    "datestr2num = lambda s: mp.dates.date2num(to_iso_datetime(s))"
   ]
  },
  {
   "cell_type": "code",
   "execution_count": 291,
   "metadata": {},
   "outputs": [],
   "source": [
    "def deltatime_msec(t,s):\n",
    "    try:\n",
    "        return (t-s).total_seconds()*1000\n",
    "    except:\n",
    "        return None"
   ]
  },
  {
   "cell_type": "code",
   "execution_count": 292,
   "metadata": {},
   "outputs": [],
   "source": [
    "def millis_interval(start,end):\n",
    "    \"\"\"start and end are datetime instances\"\"\"\n",
    "    diff = end - start\n",
    "    millis = diff.days * 24 * 60 *60 *1000\n",
    "    millis += diff.seconds * 1000\n",
    "    millis += diff.microseconds / 1000\n",
    "    return millis"
   ]
  },
  {
   "cell_type": "code",
   "execution_count": 293,
   "metadata": {},
   "outputs": [],
   "source": [
    "def deltatime_sec(t,s):\n",
    "    try:\n",
    "        return (t-s).total_seconds()\n",
    "    except:\n",
    "        return None"
   ]
  },
  {
   "cell_type": "code",
   "execution_count": 294,
   "metadata": {},
   "outputs": [],
   "source": [
    "def to_weekday(d,names=True):\n",
    "    assert(isinstance(d,(str,dt.datetime)))\n",
    "    if isinstance(d,str):\n",
    "        d = to_iso_date(d)\n",
    "    if names:\n",
    "        return d.strftime('%A')\n",
    "    else:\n",
    "        return d.weekday()"
   ]
  },
  {
   "cell_type": "code",
   "execution_count": 298,
   "metadata": {},
   "outputs": [],
   "source": [
    "def date_hm_delta(date):\n",
    "    \n",
    "    def delta_fun(dt_date):\n",
    "        return lambda h,m: dt.datetime.isoformat(dt_date + dt.timedelta(hours=h) + dt.timedelta(minutes=m))\n",
    "    \n",
    "    if isinstance(date,dt.datetime):\n",
    "        return delta_fun(date)\n",
    "    elif isinstance(date,str):\n",
    "        return delta_fun(to_iso_datetime(date))"
   ]
  },
  {
   "cell_type": "code",
   "execution_count": null,
   "metadata": {},
   "outputs": [],
   "source": [
    "# MISC"
   ]
  },
  {
   "cell_type": "code",
   "execution_count": 300,
   "metadata": {},
   "outputs": [],
   "source": [
    "def rotate_left(l,n):\n",
    "    if isinstance(n,int):\n",
    "        return l[n:] + l[:n]\n",
    "    if isinstance(n,(tuple,list,range)):\n",
    "        return [rotate_left(l,x) for x in n]\n",
    "    \n",
    "def rotate_right(l,n):\n",
    "    rotate_left(l,-n)"
   ]
  },
  {
   "cell_type": "code",
   "execution_count": 301,
   "metadata": {},
   "outputs": [],
   "source": [
    "def digits(x):\n",
    "    return [int(i) for i in str(x)]"
   ]
  },
  {
   "cell_type": "code",
   "execution_count": 302,
   "metadata": {},
   "outputs": [],
   "source": [
    "def ensure_dir(file_path,type=dir):\n",
    "    if type=='dir':\n",
    "        directory = file_path\n",
    "    elif type=='file':\n",
    "        directory = os.path.dirname(file_path)\n",
    "    else:\n",
    "        directory = file_path\n",
    "    if not os.path.exists(directory):\n",
    "        os.makedirs(directory)"
   ]
  },
  {
   "cell_type": "code",
   "execution_count": 303,
   "metadata": {},
   "outputs": [],
   "source": [
    "safe_sum = lambda x: rcomp(values,sum)(x) if isa(dict)(x) else 0"
   ]
  }
 ],
 "metadata": {
  "kernelspec": {
   "display_name": "Python 3",
   "language": "python",
   "name": "python3"
  },
  "language_info": {
   "codemirror_mode": {
    "name": "ipython",
    "version": 3
   },
   "file_extension": ".py",
   "mimetype": "text/x-python",
   "name": "python",
   "nbconvert_exporter": "python",
   "pygments_lexer": "ipython3",
   "version": "3.7.3"
  }
 },
 "nbformat": 4,
 "nbformat_minor": 2
}

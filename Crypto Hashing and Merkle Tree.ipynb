{
 "cells": [
  {
   "cell_type": "code",
   "execution_count": null,
   "metadata": {},
   "outputs": [],
   "source": [
    "# Crypto Hashing and Merkle Tree"
   ]
  },
  {
   "cell_type": "code",
   "execution_count": null,
   "metadata": {},
   "outputs": [],
   "source": [
    "# https://github.com/ranzhang/blockchain/tree/master/crypto/hashing?utm_campaign=News&utm_medium=Community&utm_source=DataCamp.com"
   ]
  },
  {
   "cell_type": "code",
   "execution_count": 3,
   "metadata": {},
   "outputs": [],
   "source": [
    "import hashlib"
   ]
  },
  {
   "cell_type": "code",
   "execution_count": 9,
   "metadata": {},
   "outputs": [
    {
     "data": {
      "text/plain": [
       "['a2fbe3e7b1ea35e98c99caf52a55dea837670ca998dbbb52a09c4e2ec511c933']"
      ]
     },
     "execution_count": 9,
     "metadata": {},
     "output_type": "execute_result"
    }
   ],
   "source": [
    "def doubleSha256(input):\n",
    "    return hashlib.sha256(hashlib.sha256(input.encode('utf-8')).hexdigest().encode('utf-8')).hexdigest() \n",
    "\n",
    "transactions = ['a', 'b', 'c', 'd', 'e']\n",
    "leafHash = []\n",
    "class Merkleroot(object):\n",
    "    def __init__(self):\n",
    "        pass\n",
    "\n",
    "    \n",
    "    def findMerkleRoot(self, leafHash):\n",
    "        hash = []\n",
    "        hash2 = []\n",
    "        if len(leafHash) % 2 != 0:                             ##if not even, repeat the last element\n",
    "            leafHash.extend(leafHash[-1:])\n",
    "        \n",
    "        for leaf in sorted(leafHash):                         ##for each leaf\n",
    "            hash.append(leaf)\n",
    "            if len(hash) % 2 == 0:                            ##only add secondary hash if there are two first hash\n",
    "                hash2.append(doubleSha256(hash[0]+hash[1]))   ##run through hash func for both hashes\n",
    "                hash == []                                    ##reset first hash to empty\n",
    "        if len(hash2) == 1:                                   ##if secondary hash is only one, we are the root\n",
    "            return hash2\n",
    "        else:\n",
    "            return self.findMerkleRoot(hash2)                 ##if not, recurse with hash2\n",
    "\n",
    "##compute a list of hashes from transactions\n",
    "for trans in transactions:\n",
    "#   leafHash.append(doubleSha256(trans))\n",
    "    leafHash.append(doubleSha256(trans))\n",
    "\n",
    "mr = Merkleroot()\n",
    "mr.findMerkleRoot(leafHash)"
   ]
  },
  {
   "cell_type": "code",
   "execution_count": 15,
   "metadata": {},
   "outputs": [
    {
     "data": {
      "text/plain": [
       "<sha256 HASH object @ 0x7f94e07233a0>"
      ]
     },
     "execution_count": 15,
     "metadata": {},
     "output_type": "execute_result"
    }
   ],
   "source": [
    "hashlib.sha256(b'hello world')"
   ]
  },
  {
   "cell_type": "code",
   "execution_count": 17,
   "metadata": {},
   "outputs": [
    {
     "data": {
      "text/plain": [
       "'b94d27b9934d3e08a52e52d7da7dabfac484efe37a5380ee9088f7ace2efcde9'"
      ]
     },
     "execution_count": 17,
     "metadata": {},
     "output_type": "execute_result"
    }
   ],
   "source": [
    "hashlib.sha256(b'hello world').hexdigest()"
   ]
  },
  {
   "cell_type": "code",
   "execution_count": 19,
   "metadata": {},
   "outputs": [
    {
     "data": {
      "text/plain": [
       "'049da052634feb56ce6ec0bc648c672011edff1cb272b53113bbc90a8f00249c'"
      ]
     },
     "execution_count": 19,
     "metadata": {},
     "output_type": "execute_result"
    }
   ],
   "source": [
    "doubleSha256('hello world')"
   ]
  },
  {
   "cell_type": "code",
   "execution_count": null,
   "metadata": {},
   "outputs": [],
   "source": []
  }
 ],
 "metadata": {
  "kernelspec": {
   "display_name": "Python 3",
   "language": "python",
   "name": "python3"
  },
  "language_info": {
   "codemirror_mode": {
    "name": "ipython",
    "version": 3
   },
   "file_extension": ".py",
   "mimetype": "text/x-python",
   "name": "python",
   "nbconvert_exporter": "python",
   "pygments_lexer": "ipython3",
   "version": "3.7.3"
  }
 },
 "nbformat": 4,
 "nbformat_minor": 2
}

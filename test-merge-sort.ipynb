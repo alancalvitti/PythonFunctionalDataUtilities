{
 "cells": [
  {
   "cell_type": "code",
   "execution_count": null,
   "metadata": {},
   "outputs": [],
   "source": []
  },
  {
   "cell_type": "code",
   "execution_count": 40,
   "metadata": {},
   "outputs": [],
   "source": [
    "def swap(a,b):\n",
    "    return (b,a)"
   ]
  },
  {
   "cell_type": "code",
   "execution_count": 67,
   "metadata": {},
   "outputs": [],
   "source": [
    "def insert_sort(A):\n",
    "    i=1\n",
    "    while i<len(A):\n",
    "        j=i\n",
    "        while j>0 and A[j-1]>A[j]:\n",
    "            print(i,j)\n",
    "            A[j-1],A[j] = A[j],A[j-1]\n",
    "            print('after swap',A,A[j-1],A[j])\n",
    "            j=j-1\n",
    "        i=i+1"
   ]
  },
  {
   "cell_type": "code",
   "execution_count": 68,
   "metadata": {},
   "outputs": [],
   "source": [
    "arr = [12,11,6,7,6,6,8]"
   ]
  },
  {
   "cell_type": "code",
   "execution_count": 69,
   "metadata": {},
   "outputs": [
    {
     "name": "stdout",
     "output_type": "stream",
     "text": [
      "1 1\n",
      "after swap [11, 12, 6, 7, 6, 6, 8] 11 12\n",
      "2 2\n",
      "after swap [11, 6, 12, 7, 6, 6, 8] 6 12\n",
      "2 1\n",
      "after swap [6, 11, 12, 7, 6, 6, 8] 6 11\n",
      "3 3\n",
      "after swap [6, 11, 7, 12, 6, 6, 8] 7 12\n",
      "3 2\n",
      "after swap [6, 7, 11, 12, 6, 6, 8] 7 11\n",
      "4 4\n",
      "after swap [6, 7, 11, 6, 12, 6, 8] 6 12\n",
      "4 3\n",
      "after swap [6, 7, 6, 11, 12, 6, 8] 6 11\n",
      "4 2\n",
      "after swap [6, 6, 7, 11, 12, 6, 8] 6 7\n",
      "5 5\n",
      "after swap [6, 6, 7, 11, 6, 12, 8] 6 12\n",
      "5 4\n",
      "after swap [6, 6, 7, 6, 11, 12, 8] 6 11\n",
      "5 3\n",
      "after swap [6, 6, 6, 7, 11, 12, 8] 6 7\n",
      "6 6\n",
      "after swap [6, 6, 6, 7, 11, 8, 12] 8 12\n",
      "6 5\n",
      "after swap [6, 6, 6, 7, 8, 11, 12] 8 11\n"
     ]
    }
   ],
   "source": [
    "insert_sort(arr)"
   ]
  },
  {
   "cell_type": "code",
   "execution_count": 70,
   "metadata": {},
   "outputs": [
    {
     "data": {
      "text/plain": [
       "[6, 6, 6, 7, 8, 11, 12]"
      ]
     },
     "execution_count": 70,
     "metadata": {},
     "output_type": "execute_result"
    }
   ],
   "source": [
    "arr"
   ]
  },
  {
   "cell_type": "code",
   "execution_count": null,
   "metadata": {},
   "outputs": [],
   "source": []
  },
  {
   "cell_type": "code",
   "execution_count": null,
   "metadata": {},
   "outputs": [],
   "source": []
  },
  {
   "cell_type": "code",
   "execution_count": null,
   "metadata": {},
   "outputs": [],
   "source": []
  },
  {
   "cell_type": "code",
   "execution_count": 36,
   "metadata": {},
   "outputs": [],
   "source": [
    "def mergeSort(arr): \n",
    "    if len(arr) >1: \n",
    "        mid = len(arr)//2 #Finding the mid of the array \n",
    " \n",
    "        L = arr[:mid] # Dividing the array elements  \n",
    "        R = arr[mid:] # into 2 halves \n",
    "  \n",
    "        print('mid',mid,'L',L,'R',R)\n",
    "\n",
    "        mergeSort(L) # Sorting the first half \n",
    "        mergeSort(R) # Sorting the second half \n",
    "  \n",
    "        i = j = k = 0\n",
    "          \n",
    "        # Copy data to temp arrays L[] and R[] \n",
    "        while i < len(L) and j < len(R): \n",
    "            print('in copy data')\n",
    "            if L[i] < R[j]: \n",
    "                print('Li<Rj',i,j,L[i],R[j])\n",
    "                arr[k] = L[i] \n",
    "                i+=1\n",
    "            else: \n",
    "                print('Li>=Rj','j=',j,'R[%s] % R[j])\n",
    "                arr[k] = R[j] \n",
    "                j+=1\n",
    "            k+=1\n",
    "          \n",
    "        # Checking if any element was left \n",
    "        while i < len(L): \n",
    "            arr[k] = L[i] \n",
    "            i+=1\n",
    "            k+=1\n",
    "          \n",
    "        while j < len(R): \n",
    "            arr[k] = R[j] \n",
    "            j+=1\n",
    "            k+=1\n"
   ]
  },
  {
   "cell_type": "code",
   "execution_count": 37,
   "metadata": {},
   "outputs": [
    {
     "name": "stdout",
     "output_type": "stream",
     "text": [
      "Given array is [12, 11, 6, 7, 6, 6, 8]\n",
      "mid 3 L [12, 11, 6] R [7, 6, 6, 8]\n",
      "mid 1 L [12] R [11, 6]\n",
      "mid 1 L [11] R [6]\n",
      "in copy data\n",
      "Li>=Rj 0 6\n",
      "in copy data\n",
      "Li>=Rj 0 6\n",
      "in copy data\n",
      "Li>=Rj 1 11\n",
      "mid 2 L [7, 6] R [6, 8]\n",
      "mid 1 L [7] R [6]\n",
      "in copy data\n",
      "Li>=Rj 0 6\n",
      "mid 1 L [6] R [8]\n",
      "in copy data\n",
      "Li<Rj 0 0 6 8\n",
      "in copy data\n",
      "Li>=Rj 0 6\n",
      "in copy data\n",
      "Li<Rj 0 1 6 8\n",
      "in copy data\n",
      "Li<Rj 1 1 7 8\n",
      "in copy data\n",
      "Li>=Rj 0 6\n",
      "in copy data\n",
      "Li>=Rj 1 6\n",
      "in copy data\n",
      "Li<Rj 0 2 6 7\n",
      "in copy data\n",
      "Li>=Rj 2 7\n",
      "in copy data\n",
      "Li>=Rj 3 8\n",
      "Sorted array is:  [6, 6, 6, 7, 8, 11, 12]\n"
     ]
    }
   ],
   "source": [
    "# driver code to test the above code \n",
    "arr = [12, 11,6, 7, 6,6, 8]  \n",
    "print (\"Given array is\", arr)  \n",
    "mergeSort(arr) \n",
    "print(\"Sorted array is: \", arr)   "
   ]
  },
  {
   "cell_type": "code",
   "execution_count": null,
   "metadata": {},
   "outputs": [],
   "source": []
  },
  {
   "cell_type": "code",
   "execution_count": null,
   "metadata": {},
   "outputs": [],
   "source": []
  },
  {
   "cell_type": "code",
   "execution_count": 15,
   "metadata": {},
   "outputs": [],
   "source": [
    "arr2 = [1,0,2]"
   ]
  },
  {
   "cell_type": "code",
   "execution_count": 11,
   "metadata": {},
   "outputs": [],
   "source": [
    "mergeSort(arr2)"
   ]
  },
  {
   "cell_type": "code",
   "execution_count": 12,
   "metadata": {},
   "outputs": [
    {
     "data": {
      "text/plain": [
       "[0, 1]"
      ]
     },
     "execution_count": 12,
     "metadata": {},
     "output_type": "execute_result"
    }
   ],
   "source": [
    "arr2"
   ]
  },
  {
   "cell_type": "code",
   "execution_count": 16,
   "metadata": {},
   "outputs": [
    {
     "data": {
      "text/plain": [
       "1"
      ]
     },
     "execution_count": 16,
     "metadata": {},
     "output_type": "execute_result"
    }
   ],
   "source": [
    "len(arr2)//2"
   ]
  },
  {
   "cell_type": "code",
   "execution_count": null,
   "metadata": {},
   "outputs": [],
   "source": []
  }
 ],
 "metadata": {
  "kernelspec": {
   "display_name": "Python 3",
   "language": "python",
   "name": "python3"
  },
  "language_info": {
   "codemirror_mode": {
    "name": "ipython",
    "version": 3
   },
   "file_extension": ".py",
   "mimetype": "text/x-python",
   "name": "python",
   "nbconvert_exporter": "python",
   "pygments_lexer": "ipython3",
   "version": "3.7.3"
  }
 },
 "nbformat": 4,
 "nbformat_minor": 2
}
